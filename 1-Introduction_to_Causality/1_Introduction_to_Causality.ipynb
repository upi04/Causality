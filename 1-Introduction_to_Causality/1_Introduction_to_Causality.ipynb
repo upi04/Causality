{
  "nbformat": 4,
  "nbformat_minor": 0,
  "metadata": {
    "colab": {
      "provenance": []
    },
    "kernelspec": {
      "name": "python3",
      "display_name": "Python 3"
    },
    "language_info": {
      "name": "python"
    }
  },
  "cells": [
    {
      "cell_type": "markdown",
      "source": [
        " 1 - Introduction to Causality\n",
        "\n",
        "\n"
      ],
      "metadata": {
        "id": "RCigBDdNOsmV"
      }
    },
    {
      "cell_type": "markdown",
      "source": [
        "Outline\n",
        "\n",
        "Review:\n",
        "Motivation\n",
        "Causality\n",
        "Causal Inference\n",
        "Statistical Inference: Causes of Poverty in England\n",
        "Experimental Analysis: Thornton HIV Study\n",
        "Minimum Wage on The Employment"
      ],
      "metadata": {
        "id": "0oM_wwknPAo9"
      }
    },
    {
      "cell_type": "markdown",
      "source": [
        "Review"
      ],
      "metadata": {
        "id": "6IsZJpQ1PCVe"
      }
    },
    {
      "cell_type": "markdown",
      "source": [
        "---\n",
        "## Motivation\n",
        "- Many of the interesting questions in research we might want to answer with data are causal\n",
        "  - Economics : How does supply and demand (causally) depend on price?\n",
        "  - Policy : Are job training programmes actually effective?\n",
        "  - Business : What is the effect of new feature to churn rate?\n",
        "- We want to able answering causal question, “Does X cause Y?”, “What’s the effect of X on Y”, etc.\n",
        "- Learning causality helps us understand why things happen, and not just what happens. It allows us explain phenomena, and make decisions based on evidence rather than just correlation.\n",
        "---\n",
        "## Causality\n",
        "- X causes Y If were we *intervene* and **change the value of X without changing anything else**, then the **distribution of Y would also change as a result**\n",
        "- Example of causation that are correlated: A lamp switch being set to on causes the lamp to be on\n",
        "- Example of causation that have no correlation: The sailor counteracts the wind by seems randomly adjusting the rudder. The boat moves in a straight line, showing no visible relationship between the rudder and boat's direction. It's a causal! The sailor is moving the rudder in response to the unobserved wind so the boat moves in straight line\n",
        "- Example of correlation that are not Causal:Rooster crowing sounds are followed closely by sunrise. Not Causal! The rooster that not crowing do not cause the sun do not rise\n",
        "\n",
        "---\n",
        "## Causal Inference\n",
        "\n",
        "- Causal Inference: estimating how events and decisions affect a specific outcome that is of interest using theoretical understanding and comprehensive knowledge of the context.\n",
        "- One way of thinking about causality is via the **potential outcomes** model. We can’t observe the **counterfactual**. However, we can estimate how the outcome would have been in counterfactual. Figuring out that makes a good counterfactual estimate is a key part of causal inference!\n",
        "- Randomized controlled experiment is the gold standard of causal inference method. Randomization conceptually facilitates us to have a condition where there is no structural relation between variables and treatment status, as depicted by a very low or even no variables having statistical correlation with treatment status.\n",
        "- However, conducting randomization can be infeasible, unethical, impossible\n",
        "- Therefore, it becomes necessary to develop a comprehensive understanding of the world and establish a model that can help us determine what the counterfactual would look like."
      ],
      "metadata": {
        "id": "a73ppgx3PE9x"
      }
    },
    {
      "cell_type": "code",
      "source": [
        "import numpy as np\n",
        "import pandas as pd\n",
        "import statsmodels.formula.api as smf\n",
        "import seaborn as sns\n",
        "import matplotlib.pyplot as plt\n"
      ],
      "metadata": {
        "id": "Dq6VWwVKPGoH"
      },
      "execution_count": 1,
      "outputs": []
    },
    {
      "cell_type": "markdown",
      "source": [
        "# Statistical Inference: Causes of Poverty in England\n",
        "---"
      ],
      "metadata": {
        "id": "QgXhXx5PPJSG"
      }
    },
    {
      "cell_type": "markdown",
      "source": [
        "### Background\n",
        "- The statistician G. Udny Yule made early use of regression analysis in the social sciences.\n",
        "- Yule (1899) was interested in the causes of poverty in England.\n",
        "- Poor people depended on either poorhouses or the local authorities for financial support\n",
        "\n",
        "### Objective\n",
        "Yule wanted to know if public assistance increased the number of paupers, which is a causal question."
      ],
      "metadata": {
        "id": "Xsy-ulw6PM3X"
      }
    },
    {
      "cell_type": "markdown",
      "source": [
        "- Yule used least squares regression to estimate the partial correlation between public assistance and poverty.\n",
        "- This data was drawn from the English censuses of 1871 and 1881, the data was made available by the Author of Causal Inference: The Mixtape in his github"
      ],
      "metadata": {
        "id": "4Lnh9iIVPStu"
      }
    },
    {
      "cell_type": "markdown",
      "source": [
        "### Read Data"
      ],
      "metadata": {
        "id": "y3aTBpmSPVif"
      }
    },
    {
      "cell_type": "code",
      "source": [
        "# Read Data\n",
        "yule = pd.read_stata('yule.dta')\n",
        "\n",
        "# Print the shape of data\n",
        "print(yule.shape)\n",
        "\n",
        "# Show fifth first rows of data\n",
        "yule.head()"
      ],
      "metadata": {
        "id": "7X2JcRo9PWge",
        "colab": {
          "base_uri": "https://localhost:8080/",
          "height": 224
        },
        "outputId": "6f01ed82-c9c1-49c4-c247-8a15d80fe34b"
      },
      "execution_count": 2,
      "outputs": [
        {
          "output_type": "stream",
          "name": "stdout",
          "text": [
            "(32, 5)\n"
          ]
        },
        {
          "output_type": "execute_result",
          "data": {
            "text/plain": [
              "        location  paup  outrelief  old  pop\n",
              "0    Kensington     27          5  104  136\n",
              "1    Paddington     47         12  115  111\n",
              "2        Fulham     31         21   85  174\n",
              "3       Chelsea     64         21   81  124\n",
              "4  St. George’s     46         18  113   96"
            ],
            "text/html": [
              "\n",
              "  <div id=\"df-26a295a3-3e31-4b4c-81ef-061fece0e33a\" class=\"colab-df-container\">\n",
              "    <div>\n",
              "<style scoped>\n",
              "    .dataframe tbody tr th:only-of-type {\n",
              "        vertical-align: middle;\n",
              "    }\n",
              "\n",
              "    .dataframe tbody tr th {\n",
              "        vertical-align: top;\n",
              "    }\n",
              "\n",
              "    .dataframe thead th {\n",
              "        text-align: right;\n",
              "    }\n",
              "</style>\n",
              "<table border=\"1\" class=\"dataframe\">\n",
              "  <thead>\n",
              "    <tr style=\"text-align: right;\">\n",
              "      <th></th>\n",
              "      <th>location</th>\n",
              "      <th>paup</th>\n",
              "      <th>outrelief</th>\n",
              "      <th>old</th>\n",
              "      <th>pop</th>\n",
              "    </tr>\n",
              "  </thead>\n",
              "  <tbody>\n",
              "    <tr>\n",
              "      <th>0</th>\n",
              "      <td>Kensington</td>\n",
              "      <td>27</td>\n",
              "      <td>5</td>\n",
              "      <td>104</td>\n",
              "      <td>136</td>\n",
              "    </tr>\n",
              "    <tr>\n",
              "      <th>1</th>\n",
              "      <td>Paddington</td>\n",
              "      <td>47</td>\n",
              "      <td>12</td>\n",
              "      <td>115</td>\n",
              "      <td>111</td>\n",
              "    </tr>\n",
              "    <tr>\n",
              "      <th>2</th>\n",
              "      <td>Fulham</td>\n",
              "      <td>31</td>\n",
              "      <td>21</td>\n",
              "      <td>85</td>\n",
              "      <td>174</td>\n",
              "    </tr>\n",
              "    <tr>\n",
              "      <th>3</th>\n",
              "      <td>Chelsea</td>\n",
              "      <td>64</td>\n",
              "      <td>21</td>\n",
              "      <td>81</td>\n",
              "      <td>124</td>\n",
              "    </tr>\n",
              "    <tr>\n",
              "      <th>4</th>\n",
              "      <td>St. George’s</td>\n",
              "      <td>46</td>\n",
              "      <td>18</td>\n",
              "      <td>113</td>\n",
              "      <td>96</td>\n",
              "    </tr>\n",
              "  </tbody>\n",
              "</table>\n",
              "</div>\n",
              "    <div class=\"colab-df-buttons\">\n",
              "\n",
              "  <div class=\"colab-df-container\">\n",
              "    <button class=\"colab-df-convert\" onclick=\"convertToInteractive('df-26a295a3-3e31-4b4c-81ef-061fece0e33a')\"\n",
              "            title=\"Convert this dataframe to an interactive table.\"\n",
              "            style=\"display:none;\">\n",
              "\n",
              "  <svg xmlns=\"http://www.w3.org/2000/svg\" height=\"24px\" viewBox=\"0 -960 960 960\">\n",
              "    <path d=\"M120-120v-720h720v720H120Zm60-500h600v-160H180v160Zm220 220h160v-160H400v160Zm0 220h160v-160H400v160ZM180-400h160v-160H180v160Zm440 0h160v-160H620v160ZM180-180h160v-160H180v160Zm440 0h160v-160H620v160Z\"/>\n",
              "  </svg>\n",
              "    </button>\n",
              "\n",
              "  <style>\n",
              "    .colab-df-container {\n",
              "      display:flex;\n",
              "      gap: 12px;\n",
              "    }\n",
              "\n",
              "    .colab-df-convert {\n",
              "      background-color: #E8F0FE;\n",
              "      border: none;\n",
              "      border-radius: 50%;\n",
              "      cursor: pointer;\n",
              "      display: none;\n",
              "      fill: #1967D2;\n",
              "      height: 32px;\n",
              "      padding: 0 0 0 0;\n",
              "      width: 32px;\n",
              "    }\n",
              "\n",
              "    .colab-df-convert:hover {\n",
              "      background-color: #E2EBFA;\n",
              "      box-shadow: 0px 1px 2px rgba(60, 64, 67, 0.3), 0px 1px 3px 1px rgba(60, 64, 67, 0.15);\n",
              "      fill: #174EA6;\n",
              "    }\n",
              "\n",
              "    .colab-df-buttons div {\n",
              "      margin-bottom: 4px;\n",
              "    }\n",
              "\n",
              "    [theme=dark] .colab-df-convert {\n",
              "      background-color: #3B4455;\n",
              "      fill: #D2E3FC;\n",
              "    }\n",
              "\n",
              "    [theme=dark] .colab-df-convert:hover {\n",
              "      background-color: #434B5C;\n",
              "      box-shadow: 0px 1px 3px 1px rgba(0, 0, 0, 0.15);\n",
              "      filter: drop-shadow(0px 1px 2px rgba(0, 0, 0, 0.3));\n",
              "      fill: #FFFFFF;\n",
              "    }\n",
              "  </style>\n",
              "\n",
              "    <script>\n",
              "      const buttonEl =\n",
              "        document.querySelector('#df-26a295a3-3e31-4b4c-81ef-061fece0e33a button.colab-df-convert');\n",
              "      buttonEl.style.display =\n",
              "        google.colab.kernel.accessAllowed ? 'block' : 'none';\n",
              "\n",
              "      async function convertToInteractive(key) {\n",
              "        const element = document.querySelector('#df-26a295a3-3e31-4b4c-81ef-061fece0e33a');\n",
              "        const dataTable =\n",
              "          await google.colab.kernel.invokeFunction('convertToInteractive',\n",
              "                                                    [key], {});\n",
              "        if (!dataTable) return;\n",
              "\n",
              "        const docLinkHtml = 'Like what you see? Visit the ' +\n",
              "          '<a target=\"_blank\" href=https://colab.research.google.com/notebooks/data_table.ipynb>data table notebook</a>'\n",
              "          + ' to learn more about interactive tables.';\n",
              "        element.innerHTML = '';\n",
              "        dataTable['output_type'] = 'display_data';\n",
              "        await google.colab.output.renderOutput(dataTable, element);\n",
              "        const docLink = document.createElement('div');\n",
              "        docLink.innerHTML = docLinkHtml;\n",
              "        element.appendChild(docLink);\n",
              "      }\n",
              "    </script>\n",
              "  </div>\n",
              "\n",
              "\n",
              "    <div id=\"df-0c5fa5a0-c81d-47cd-b6d3-2a24b62352b1\">\n",
              "      <button class=\"colab-df-quickchart\" onclick=\"quickchart('df-0c5fa5a0-c81d-47cd-b6d3-2a24b62352b1')\"\n",
              "                title=\"Suggest charts\"\n",
              "                style=\"display:none;\">\n",
              "\n",
              "<svg xmlns=\"http://www.w3.org/2000/svg\" height=\"24px\"viewBox=\"0 0 24 24\"\n",
              "     width=\"24px\">\n",
              "    <g>\n",
              "        <path d=\"M19 3H5c-1.1 0-2 .9-2 2v14c0 1.1.9 2 2 2h14c1.1 0 2-.9 2-2V5c0-1.1-.9-2-2-2zM9 17H7v-7h2v7zm4 0h-2V7h2v10zm4 0h-2v-4h2v4z\"/>\n",
              "    </g>\n",
              "</svg>\n",
              "      </button>\n",
              "\n",
              "<style>\n",
              "  .colab-df-quickchart {\n",
              "      --bg-color: #E8F0FE;\n",
              "      --fill-color: #1967D2;\n",
              "      --hover-bg-color: #E2EBFA;\n",
              "      --hover-fill-color: #174EA6;\n",
              "      --disabled-fill-color: #AAA;\n",
              "      --disabled-bg-color: #DDD;\n",
              "  }\n",
              "\n",
              "  [theme=dark] .colab-df-quickchart {\n",
              "      --bg-color: #3B4455;\n",
              "      --fill-color: #D2E3FC;\n",
              "      --hover-bg-color: #434B5C;\n",
              "      --hover-fill-color: #FFFFFF;\n",
              "      --disabled-bg-color: #3B4455;\n",
              "      --disabled-fill-color: #666;\n",
              "  }\n",
              "\n",
              "  .colab-df-quickchart {\n",
              "    background-color: var(--bg-color);\n",
              "    border: none;\n",
              "    border-radius: 50%;\n",
              "    cursor: pointer;\n",
              "    display: none;\n",
              "    fill: var(--fill-color);\n",
              "    height: 32px;\n",
              "    padding: 0;\n",
              "    width: 32px;\n",
              "  }\n",
              "\n",
              "  .colab-df-quickchart:hover {\n",
              "    background-color: var(--hover-bg-color);\n",
              "    box-shadow: 0 1px 2px rgba(60, 64, 67, 0.3), 0 1px 3px 1px rgba(60, 64, 67, 0.15);\n",
              "    fill: var(--button-hover-fill-color);\n",
              "  }\n",
              "\n",
              "  .colab-df-quickchart-complete:disabled,\n",
              "  .colab-df-quickchart-complete:disabled:hover {\n",
              "    background-color: var(--disabled-bg-color);\n",
              "    fill: var(--disabled-fill-color);\n",
              "    box-shadow: none;\n",
              "  }\n",
              "\n",
              "  .colab-df-spinner {\n",
              "    border: 2px solid var(--fill-color);\n",
              "    border-color: transparent;\n",
              "    border-bottom-color: var(--fill-color);\n",
              "    animation:\n",
              "      spin 1s steps(1) infinite;\n",
              "  }\n",
              "\n",
              "  @keyframes spin {\n",
              "    0% {\n",
              "      border-color: transparent;\n",
              "      border-bottom-color: var(--fill-color);\n",
              "      border-left-color: var(--fill-color);\n",
              "    }\n",
              "    20% {\n",
              "      border-color: transparent;\n",
              "      border-left-color: var(--fill-color);\n",
              "      border-top-color: var(--fill-color);\n",
              "    }\n",
              "    30% {\n",
              "      border-color: transparent;\n",
              "      border-left-color: var(--fill-color);\n",
              "      border-top-color: var(--fill-color);\n",
              "      border-right-color: var(--fill-color);\n",
              "    }\n",
              "    40% {\n",
              "      border-color: transparent;\n",
              "      border-right-color: var(--fill-color);\n",
              "      border-top-color: var(--fill-color);\n",
              "    }\n",
              "    60% {\n",
              "      border-color: transparent;\n",
              "      border-right-color: var(--fill-color);\n",
              "    }\n",
              "    80% {\n",
              "      border-color: transparent;\n",
              "      border-right-color: var(--fill-color);\n",
              "      border-bottom-color: var(--fill-color);\n",
              "    }\n",
              "    90% {\n",
              "      border-color: transparent;\n",
              "      border-bottom-color: var(--fill-color);\n",
              "    }\n",
              "  }\n",
              "</style>\n",
              "\n",
              "      <script>\n",
              "        async function quickchart(key) {\n",
              "          const quickchartButtonEl =\n",
              "            document.querySelector('#' + key + ' button');\n",
              "          quickchartButtonEl.disabled = true;  // To prevent multiple clicks.\n",
              "          quickchartButtonEl.classList.add('colab-df-spinner');\n",
              "          try {\n",
              "            const charts = await google.colab.kernel.invokeFunction(\n",
              "                'suggestCharts', [key], {});\n",
              "          } catch (error) {\n",
              "            console.error('Error during call to suggestCharts:', error);\n",
              "          }\n",
              "          quickchartButtonEl.classList.remove('colab-df-spinner');\n",
              "          quickchartButtonEl.classList.add('colab-df-quickchart-complete');\n",
              "        }\n",
              "        (() => {\n",
              "          let quickchartButtonEl =\n",
              "            document.querySelector('#df-0c5fa5a0-c81d-47cd-b6d3-2a24b62352b1 button');\n",
              "          quickchartButtonEl.style.display =\n",
              "            google.colab.kernel.accessAllowed ? 'block' : 'none';\n",
              "        })();\n",
              "      </script>\n",
              "    </div>\n",
              "\n",
              "    </div>\n",
              "  </div>\n"
            ],
            "application/vnd.google.colaboratory.intrinsic+json": {
              "type": "dataframe",
              "variable_name": "yule",
              "summary": "{\n  \"name\": \"yule\",\n  \"rows\": 32,\n  \"fields\": [\n    {\n      \"column\": \"location\",\n      \"properties\": {\n        \"dtype\": \"string\",\n        \"num_unique_values\": 32,\n        \"samples\": [\n          \"Woolwich\\u00a0\",\n          \"Shoreditch\\u00a0\",\n          \"Lambeth\\u00a0\"\n        ],\n        \"semantic_type\": \"\",\n        \"description\": \"\"\n      }\n    },\n    {\n      \"column\": \"paup\",\n      \"properties\": {\n        \"dtype\": \"int8\",\n        \"num_unique_values\": 22,\n        \"samples\": [\n          27,\n          37,\n          59\n        ],\n        \"semantic_type\": \"\",\n        \"description\": \"\"\n      }\n    },\n    {\n      \"column\": \"outrelief\",\n      \"properties\": {\n        \"dtype\": \"int8\",\n        \"num_unique_values\": 24,\n        \"samples\": [\n          22,\n          20,\n          5\n        ],\n        \"semantic_type\": \"\",\n        \"description\": \"\"\n      }\n    },\n    {\n      \"column\": \"old\",\n      \"properties\": {\n        \"dtype\": \"int16\",\n        \"num_unique_values\": 22,\n        \"samples\": [\n          104,\n          102,\n          101\n        ],\n        \"semantic_type\": \"\",\n        \"description\": \"\"\n      }\n    },\n    {\n      \"column\": \"pop\",\n      \"properties\": {\n        \"dtype\": \"int16\",\n        \"num_unique_values\": 27,\n        \"samples\": [\n          107,\n          93,\n          132\n        ],\n        \"semantic_type\": \"\",\n        \"description\": \"\"\n      }\n    }\n  ]\n}"
            }
          },
          "metadata": {},
          "execution_count": 2
        }
      ]
    },
    {
      "cell_type": "markdown",
      "source": [
        "- Variables name definitions::\n",
        "  - `location` : Location in England\n",
        "  - `paup` : Pauperism Growth\n",
        "  - `outrelief` : Poverty Relief Growth\n",
        "  - `old` : Annual growth in aged population\n",
        "  - `pop` : Annual growth in population\n",
        "- From https://www.collinsdictionary.com/, outrelief means money given to poor people not living in a workhouse\n",
        "\n",
        "- Each rows represent poupers, outrelief, population, and age population growth rate in a particular location in England (e.g., Chelsea, Strand)."
      ],
      "metadata": {
        "id": "QGKDLsHiPc23"
      }
    },
    {
      "cell_type": "markdown",
      "source": [
        "### Regression"
      ],
      "metadata": {
        "id": "DWUYPQWOPZUt"
      }
    },
    {
      "cell_type": "markdown",
      "source": [
        "- Here’s an example of the regression one might run using these data:"
      ],
      "metadata": {
        "id": "fl8cOkIpQDzH"
      }
    },
    {
      "cell_type": "markdown",
      "source": [
        "$$\\text{Pauper}=\\alpha+\\delta \\text{Outrelief}+\\beta_1 \\text{Old} + \\beta_2 \\text{Pop} + u$$\n",
        "\n",
        "where\n",
        "$\\alpha$ is the intercept,\n",
        "$\\delta$ is the elasticity of outrelief,\n",
        "$\\beta_1$ is the coefficient on the relationship between Old and Pauper,\n",
        "$\\beta_2$ is the coefficient on the relationship between Pop and Pauper, and\n",
        "$u$ is the error term."
      ],
      "metadata": {
        "id": "rBp0DbSbQEyd"
      }
    },
    {
      "cell_type": "markdown",
      "source": [
        "- Each variable in the analysis is represented as an annual growth rate. As a result, regression coefficients in this context have elasticity interpretations.\n",
        "- The outrelief elasticity of pauper, $\\delta$ is the ratio of percentage changes in pauper to outrelief.\n",
        "- Elasticities are causal objects rather than mere correlations between variables. However, it's important to note that the data analyzed may not meet the necessary conditions for interpreting these relationships as causal.\n",
        "- Caution should be exercised when interpreting the results in light of the limitations in Yule's data."
      ],
      "metadata": {
        "id": "UE7Dhzg8QIO_"
      }
    },
    {
      "cell_type": "code",
      "source": [
        "# Create OLS model object\n",
        "model = smf.ols('paup ~ outrelief + old + pop', yule)\n",
        "\n",
        "# Fit the model\n",
        "results = model.fit()\n",
        "\n",
        "# Print the results\n",
        "print(results.summary())"
      ],
      "metadata": {
        "id": "cxvPiZtXQJTm",
        "colab": {
          "base_uri": "https://localhost:8080/"
        },
        "outputId": "33c760c1-b308-42af-fe2b-dcb9c3c59391"
      },
      "execution_count": 3,
      "outputs": [
        {
          "output_type": "stream",
          "name": "stdout",
          "text": [
            "                            OLS Regression Results                            \n",
            "==============================================================================\n",
            "Dep. Variable:                   paup   R-squared:                       0.697\n",
            "Model:                            OLS   Adj. R-squared:                  0.665\n",
            "Method:                 Least Squares   F-statistic:                     21.49\n",
            "Date:                Fri, 18 Jul 2025   Prob (F-statistic):           2.00e-07\n",
            "Time:                        21:59:41   Log-Likelihood:                -115.47\n",
            "No. Observations:                  32   AIC:                             238.9\n",
            "Df Residuals:                      28   BIC:                             244.8\n",
            "Df Model:                           3                                         \n",
            "Covariance Type:            nonrobust                                         \n",
            "==============================================================================\n",
            "                 coef    std err          t      P>|t|      [0.025      0.975]\n",
            "------------------------------------------------------------------------------\n",
            "Intercept     63.1877     27.144      2.328      0.027       7.586     118.789\n",
            "outrelief      0.7521      0.135      5.572      0.000       0.476       1.029\n",
            "old            0.0556      0.223      0.249      0.805      -0.402       0.513\n",
            "pop           -0.3107      0.067     -4.648      0.000      -0.448      -0.174\n",
            "==============================================================================\n",
            "Omnibus:                        7.594   Durbin-Watson:                   2.344\n",
            "Prob(Omnibus):                  0.022   Jarque-Bera (JB):                5.979\n",
            "Skew:                           0.961   Prob(JB):                       0.0503\n",
            "Kurtosis:                       3.888   Cond. No.                     2.56e+03\n",
            "==============================================================================\n",
            "\n",
            "Notes:\n",
            "[1] Standard Errors assume that the covariance matrix of the errors is correctly specified.\n",
            "[2] The condition number is large, 2.56e+03. This might indicate that there are\n",
            "strong multicollinearity or other numerical problems.\n"
          ]
        }
      ]
    },
    {
      "cell_type": "markdown",
      "source": [
        "### Interpretation"
      ],
      "metadata": {
        "id": "IpDkeZrwQNaV"
      }
    },
    {
      "cell_type": "markdown",
      "source": [
        "- In words, a 10-percentage-point change in the out-relief growth rate is **associated** with a 7.5-percentage-point increase in the pauperism growth rate.\n",
        "- Yule used his regression to calculate the correlation between out-relief and pauperism, leading him to infer that public assistance contributed to an increase in pauper growth rates."
      ],
      "metadata": {
        "id": "uDIiiDZoQRRe"
      }
    },
    {
      "cell_type": "markdown",
      "source": [
        "### Limitations of Regression Analysis for Causal Inference"
      ],
      "metadata": {
        "id": "Htw38lJkQTI1"
      }
    },
    {
      "cell_type": "markdown",
      "source": [
        "- The author of the study didn't account for economic factors and the potential for reverse causality, limiting the validity of their findings.\n",
        "- Early adopters of new methodologies often face criticism, but the absence of alternative regression methods in context of causal inference during that time period should be acknowledged.\n",
        "- The naı̈ve use of regression to estimate correlations as a means of making causal claims has been prevalent for a long time and is unlikely to disappear soon.\n",
        "- Overall, caution should be exercised when relying solely on regression analysis for drawing causal inferences in important policy debates."
      ],
      "metadata": {
        "id": "qjE8ZwahQUHe"
      }
    },
    {
      "cell_type": "markdown",
      "source": [
        "# Experimental Analysis: Thornton HIV Study\n",
        "---"
      ],
      "metadata": {
        "id": "qmLSTelHQWOu"
      }
    },
    {
      "cell_type": "markdown",
      "source": [
        "### Background\n",
        "- The common belief was that individuals learning their HIV status would lead to precautionary measures, slowing the infection rate.\n",
        "- The assumption was that knowledge of being infected would result in seeking medical treatment, prolonging life and improving quality of life.\n",
        "- Increased testing was expected to create behavioral changes in high-risk behavior, slowing the spread of the epidemic.\n",
        "- Thornton challenged these assumptions with an field experiment in rural Malawi, where cash incentives were provided to encourage individuals to follow up and learn their HIV test results.\n"
      ],
      "metadata": {
        "id": "8h-yY-mvQXW9"
      }
    },
    {
      "cell_type": "markdown",
      "source": [
        "### The Study\n",
        "- Thorton's experiment was a complex study with various aspects, but we will specifically focus on the cash-transfer aspect in the form of vouchers.\n",
        "- The experiment involved **randomized assignment** of cash transfers, **enabling the identification of causal effects on learning HIV status**.\n",
        "- By using randomized assignment, Thorton ensured that the treatment assignment was independent of potential outcomes, establishing a strong causal framework.\n",
        "- Although we cannot directly observe potential outcomes, the design of randomization guarantees independence between treatment and outcomes."
      ],
      "metadata": {
        "id": "02ocqp67QYeG"
      }
    },
    {
      "cell_type": "markdown",
      "source": [
        "### Objective\n",
        "Investigating whether cash incentives caused people to learn their HIV status and the cascading effect of that learning on subsequent risky sexual behavior"
      ],
      "metadata": {
        "id": "Yyiq33_VQZmt"
      }
    },
    {
      "cell_type": "markdown",
      "source": [
        "### Load Data"
      ],
      "metadata": {
        "id": "QjJmeHYkQasG"
      }
    },
    {
      "cell_type": "markdown",
      "source": [
        "- Respondents in rural Malawi were offered a free door-to-door HIV test as part of the experiment.\n",
        "- They were randomly assigned either **no voucher** or **vouchers** ranging from `$1` to `$3`.\n",
        "- The vouchers could be redeemed at a nearby voluntary counseling and testing center (VCT).\n",
        "- Here's the data from the experiment. note that we only included relevant variables needed"
      ],
      "metadata": {
        "id": "ZVfaWRmVQbwd"
      }
    },
    {
      "cell_type": "code",
      "source": [
        "# Read the data\n",
        "hiv = pd.read_csv(\"hiv.csv\")\n",
        "\n",
        "# Print the shape of data\n",
        "print(hiv.shape)\n",
        "\n",
        "# Show fifth first rows of data\n",
        "hiv.head()"
      ],
      "metadata": {
        "id": "qxKLM9P4Qg92",
        "colab": {
          "base_uri": "https://localhost:8080/",
          "height": 244
        },
        "outputId": "77b962ea-f27c-45f7-fee9-fa7c33dfa0ab"
      },
      "execution_count": 6,
      "outputs": [
        {
          "output_type": "stream",
          "name": "stdout",
          "text": [
            "(4820, 19)\n"
          ]
        },
        {
          "output_type": "execute_result",
          "data": {
            "text/plain": [
              "    age  male  hiv2004  educ2004  land2004  usecondom04  got  any  villnum  \\\n",
              "0  22.0   1.0      0.0       2.0       1.0          1.0  1.0  1.0      1.0   \n",
              "1  44.0   0.0      NaN       2.0       1.0          0.0  NaN  NaN      1.0   \n",
              "2  19.0   1.0      0.0       2.0       0.0          0.0  1.0  1.0      1.0   \n",
              "3  30.0   0.0      NaN       NaN       NaN          NaN  NaN  NaN      1.0   \n",
              "4  53.0   0.0      0.0       0.0       1.0          0.0  1.0  1.0      1.0   \n",
              "\n",
              "      tinc  under  rumphi  balaka     Ti  numcond  anycond  bought  \\\n",
              "0  2.08032    0.0     0.0     1.0  300.0      6.0      1.0     1.0   \n",
              "1      NaN    0.0     0.0     1.0    NaN      NaN      NaN     NaN   \n",
              "2  1.89120    0.0     0.0     1.0  200.0      3.0      1.0     0.0   \n",
              "3      NaN    0.0     0.0     1.0    NaN      NaN      NaN     NaN   \n",
              "4  0.09456    0.0     0.0     1.0   50.0      0.0      0.0     0.0   \n",
              "\n",
              "   survey2004  followupsurvey  \n",
              "0         1.0             1.0  \n",
              "1         1.0             0.0  \n",
              "2         1.0             1.0  \n",
              "3         0.0             0.0  \n",
              "4         1.0             1.0  "
            ],
            "text/html": [
              "\n",
              "  <div id=\"df-28b6cfc9-4945-4f00-8700-629aabbcd138\" class=\"colab-df-container\">\n",
              "    <div>\n",
              "<style scoped>\n",
              "    .dataframe tbody tr th:only-of-type {\n",
              "        vertical-align: middle;\n",
              "    }\n",
              "\n",
              "    .dataframe tbody tr th {\n",
              "        vertical-align: top;\n",
              "    }\n",
              "\n",
              "    .dataframe thead th {\n",
              "        text-align: right;\n",
              "    }\n",
              "</style>\n",
              "<table border=\"1\" class=\"dataframe\">\n",
              "  <thead>\n",
              "    <tr style=\"text-align: right;\">\n",
              "      <th></th>\n",
              "      <th>age</th>\n",
              "      <th>male</th>\n",
              "      <th>hiv2004</th>\n",
              "      <th>educ2004</th>\n",
              "      <th>land2004</th>\n",
              "      <th>usecondom04</th>\n",
              "      <th>got</th>\n",
              "      <th>any</th>\n",
              "      <th>villnum</th>\n",
              "      <th>tinc</th>\n",
              "      <th>under</th>\n",
              "      <th>rumphi</th>\n",
              "      <th>balaka</th>\n",
              "      <th>Ti</th>\n",
              "      <th>numcond</th>\n",
              "      <th>anycond</th>\n",
              "      <th>bought</th>\n",
              "      <th>survey2004</th>\n",
              "      <th>followupsurvey</th>\n",
              "    </tr>\n",
              "  </thead>\n",
              "  <tbody>\n",
              "    <tr>\n",
              "      <th>0</th>\n",
              "      <td>22.0</td>\n",
              "      <td>1.0</td>\n",
              "      <td>0.0</td>\n",
              "      <td>2.0</td>\n",
              "      <td>1.0</td>\n",
              "      <td>1.0</td>\n",
              "      <td>1.0</td>\n",
              "      <td>1.0</td>\n",
              "      <td>1.0</td>\n",
              "      <td>2.08032</td>\n",
              "      <td>0.0</td>\n",
              "      <td>0.0</td>\n",
              "      <td>1.0</td>\n",
              "      <td>300.0</td>\n",
              "      <td>6.0</td>\n",
              "      <td>1.0</td>\n",
              "      <td>1.0</td>\n",
              "      <td>1.0</td>\n",
              "      <td>1.0</td>\n",
              "    </tr>\n",
              "    <tr>\n",
              "      <th>1</th>\n",
              "      <td>44.0</td>\n",
              "      <td>0.0</td>\n",
              "      <td>NaN</td>\n",
              "      <td>2.0</td>\n",
              "      <td>1.0</td>\n",
              "      <td>0.0</td>\n",
              "      <td>NaN</td>\n",
              "      <td>NaN</td>\n",
              "      <td>1.0</td>\n",
              "      <td>NaN</td>\n",
              "      <td>0.0</td>\n",
              "      <td>0.0</td>\n",
              "      <td>1.0</td>\n",
              "      <td>NaN</td>\n",
              "      <td>NaN</td>\n",
              "      <td>NaN</td>\n",
              "      <td>NaN</td>\n",
              "      <td>1.0</td>\n",
              "      <td>0.0</td>\n",
              "    </tr>\n",
              "    <tr>\n",
              "      <th>2</th>\n",
              "      <td>19.0</td>\n",
              "      <td>1.0</td>\n",
              "      <td>0.0</td>\n",
              "      <td>2.0</td>\n",
              "      <td>0.0</td>\n",
              "      <td>0.0</td>\n",
              "      <td>1.0</td>\n",
              "      <td>1.0</td>\n",
              "      <td>1.0</td>\n",
              "      <td>1.89120</td>\n",
              "      <td>0.0</td>\n",
              "      <td>0.0</td>\n",
              "      <td>1.0</td>\n",
              "      <td>200.0</td>\n",
              "      <td>3.0</td>\n",
              "      <td>1.0</td>\n",
              "      <td>0.0</td>\n",
              "      <td>1.0</td>\n",
              "      <td>1.0</td>\n",
              "    </tr>\n",
              "    <tr>\n",
              "      <th>3</th>\n",
              "      <td>30.0</td>\n",
              "      <td>0.0</td>\n",
              "      <td>NaN</td>\n",
              "      <td>NaN</td>\n",
              "      <td>NaN</td>\n",
              "      <td>NaN</td>\n",
              "      <td>NaN</td>\n",
              "      <td>NaN</td>\n",
              "      <td>1.0</td>\n",
              "      <td>NaN</td>\n",
              "      <td>0.0</td>\n",
              "      <td>0.0</td>\n",
              "      <td>1.0</td>\n",
              "      <td>NaN</td>\n",
              "      <td>NaN</td>\n",
              "      <td>NaN</td>\n",
              "      <td>NaN</td>\n",
              "      <td>0.0</td>\n",
              "      <td>0.0</td>\n",
              "    </tr>\n",
              "    <tr>\n",
              "      <th>4</th>\n",
              "      <td>53.0</td>\n",
              "      <td>0.0</td>\n",
              "      <td>0.0</td>\n",
              "      <td>0.0</td>\n",
              "      <td>1.0</td>\n",
              "      <td>0.0</td>\n",
              "      <td>1.0</td>\n",
              "      <td>1.0</td>\n",
              "      <td>1.0</td>\n",
              "      <td>0.09456</td>\n",
              "      <td>0.0</td>\n",
              "      <td>0.0</td>\n",
              "      <td>1.0</td>\n",
              "      <td>50.0</td>\n",
              "      <td>0.0</td>\n",
              "      <td>0.0</td>\n",
              "      <td>0.0</td>\n",
              "      <td>1.0</td>\n",
              "      <td>1.0</td>\n",
              "    </tr>\n",
              "  </tbody>\n",
              "</table>\n",
              "</div>\n",
              "    <div class=\"colab-df-buttons\">\n",
              "\n",
              "  <div class=\"colab-df-container\">\n",
              "    <button class=\"colab-df-convert\" onclick=\"convertToInteractive('df-28b6cfc9-4945-4f00-8700-629aabbcd138')\"\n",
              "            title=\"Convert this dataframe to an interactive table.\"\n",
              "            style=\"display:none;\">\n",
              "\n",
              "  <svg xmlns=\"http://www.w3.org/2000/svg\" height=\"24px\" viewBox=\"0 -960 960 960\">\n",
              "    <path d=\"M120-120v-720h720v720H120Zm60-500h600v-160H180v160Zm220 220h160v-160H400v160Zm0 220h160v-160H400v160ZM180-400h160v-160H180v160Zm440 0h160v-160H620v160ZM180-180h160v-160H180v160Zm440 0h160v-160H620v160Z\"/>\n",
              "  </svg>\n",
              "    </button>\n",
              "\n",
              "  <style>\n",
              "    .colab-df-container {\n",
              "      display:flex;\n",
              "      gap: 12px;\n",
              "    }\n",
              "\n",
              "    .colab-df-convert {\n",
              "      background-color: #E8F0FE;\n",
              "      border: none;\n",
              "      border-radius: 50%;\n",
              "      cursor: pointer;\n",
              "      display: none;\n",
              "      fill: #1967D2;\n",
              "      height: 32px;\n",
              "      padding: 0 0 0 0;\n",
              "      width: 32px;\n",
              "    }\n",
              "\n",
              "    .colab-df-convert:hover {\n",
              "      background-color: #E2EBFA;\n",
              "      box-shadow: 0px 1px 2px rgba(60, 64, 67, 0.3), 0px 1px 3px 1px rgba(60, 64, 67, 0.15);\n",
              "      fill: #174EA6;\n",
              "    }\n",
              "\n",
              "    .colab-df-buttons div {\n",
              "      margin-bottom: 4px;\n",
              "    }\n",
              "\n",
              "    [theme=dark] .colab-df-convert {\n",
              "      background-color: #3B4455;\n",
              "      fill: #D2E3FC;\n",
              "    }\n",
              "\n",
              "    [theme=dark] .colab-df-convert:hover {\n",
              "      background-color: #434B5C;\n",
              "      box-shadow: 0px 1px 3px 1px rgba(0, 0, 0, 0.15);\n",
              "      filter: drop-shadow(0px 1px 2px rgba(0, 0, 0, 0.3));\n",
              "      fill: #FFFFFF;\n",
              "    }\n",
              "  </style>\n",
              "\n",
              "    <script>\n",
              "      const buttonEl =\n",
              "        document.querySelector('#df-28b6cfc9-4945-4f00-8700-629aabbcd138 button.colab-df-convert');\n",
              "      buttonEl.style.display =\n",
              "        google.colab.kernel.accessAllowed ? 'block' : 'none';\n",
              "\n",
              "      async function convertToInteractive(key) {\n",
              "        const element = document.querySelector('#df-28b6cfc9-4945-4f00-8700-629aabbcd138');\n",
              "        const dataTable =\n",
              "          await google.colab.kernel.invokeFunction('convertToInteractive',\n",
              "                                                    [key], {});\n",
              "        if (!dataTable) return;\n",
              "\n",
              "        const docLinkHtml = 'Like what you see? Visit the ' +\n",
              "          '<a target=\"_blank\" href=https://colab.research.google.com/notebooks/data_table.ipynb>data table notebook</a>'\n",
              "          + ' to learn more about interactive tables.';\n",
              "        element.innerHTML = '';\n",
              "        dataTable['output_type'] = 'display_data';\n",
              "        await google.colab.output.renderOutput(dataTable, element);\n",
              "        const docLink = document.createElement('div');\n",
              "        docLink.innerHTML = docLinkHtml;\n",
              "        element.appendChild(docLink);\n",
              "      }\n",
              "    </script>\n",
              "  </div>\n",
              "\n",
              "\n",
              "    <div id=\"df-57ead8cc-04b9-4cd0-9a5e-870d8be66a36\">\n",
              "      <button class=\"colab-df-quickchart\" onclick=\"quickchart('df-57ead8cc-04b9-4cd0-9a5e-870d8be66a36')\"\n",
              "                title=\"Suggest charts\"\n",
              "                style=\"display:none;\">\n",
              "\n",
              "<svg xmlns=\"http://www.w3.org/2000/svg\" height=\"24px\"viewBox=\"0 0 24 24\"\n",
              "     width=\"24px\">\n",
              "    <g>\n",
              "        <path d=\"M19 3H5c-1.1 0-2 .9-2 2v14c0 1.1.9 2 2 2h14c1.1 0 2-.9 2-2V5c0-1.1-.9-2-2-2zM9 17H7v-7h2v7zm4 0h-2V7h2v10zm4 0h-2v-4h2v4z\"/>\n",
              "    </g>\n",
              "</svg>\n",
              "      </button>\n",
              "\n",
              "<style>\n",
              "  .colab-df-quickchart {\n",
              "      --bg-color: #E8F0FE;\n",
              "      --fill-color: #1967D2;\n",
              "      --hover-bg-color: #E2EBFA;\n",
              "      --hover-fill-color: #174EA6;\n",
              "      --disabled-fill-color: #AAA;\n",
              "      --disabled-bg-color: #DDD;\n",
              "  }\n",
              "\n",
              "  [theme=dark] .colab-df-quickchart {\n",
              "      --bg-color: #3B4455;\n",
              "      --fill-color: #D2E3FC;\n",
              "      --hover-bg-color: #434B5C;\n",
              "      --hover-fill-color: #FFFFFF;\n",
              "      --disabled-bg-color: #3B4455;\n",
              "      --disabled-fill-color: #666;\n",
              "  }\n",
              "\n",
              "  .colab-df-quickchart {\n",
              "    background-color: var(--bg-color);\n",
              "    border: none;\n",
              "    border-radius: 50%;\n",
              "    cursor: pointer;\n",
              "    display: none;\n",
              "    fill: var(--fill-color);\n",
              "    height: 32px;\n",
              "    padding: 0;\n",
              "    width: 32px;\n",
              "  }\n",
              "\n",
              "  .colab-df-quickchart:hover {\n",
              "    background-color: var(--hover-bg-color);\n",
              "    box-shadow: 0 1px 2px rgba(60, 64, 67, 0.3), 0 1px 3px 1px rgba(60, 64, 67, 0.15);\n",
              "    fill: var(--button-hover-fill-color);\n",
              "  }\n",
              "\n",
              "  .colab-df-quickchart-complete:disabled,\n",
              "  .colab-df-quickchart-complete:disabled:hover {\n",
              "    background-color: var(--disabled-bg-color);\n",
              "    fill: var(--disabled-fill-color);\n",
              "    box-shadow: none;\n",
              "  }\n",
              "\n",
              "  .colab-df-spinner {\n",
              "    border: 2px solid var(--fill-color);\n",
              "    border-color: transparent;\n",
              "    border-bottom-color: var(--fill-color);\n",
              "    animation:\n",
              "      spin 1s steps(1) infinite;\n",
              "  }\n",
              "\n",
              "  @keyframes spin {\n",
              "    0% {\n",
              "      border-color: transparent;\n",
              "      border-bottom-color: var(--fill-color);\n",
              "      border-left-color: var(--fill-color);\n",
              "    }\n",
              "    20% {\n",
              "      border-color: transparent;\n",
              "      border-left-color: var(--fill-color);\n",
              "      border-top-color: var(--fill-color);\n",
              "    }\n",
              "    30% {\n",
              "      border-color: transparent;\n",
              "      border-left-color: var(--fill-color);\n",
              "      border-top-color: var(--fill-color);\n",
              "      border-right-color: var(--fill-color);\n",
              "    }\n",
              "    40% {\n",
              "      border-color: transparent;\n",
              "      border-right-color: var(--fill-color);\n",
              "      border-top-color: var(--fill-color);\n",
              "    }\n",
              "    60% {\n",
              "      border-color: transparent;\n",
              "      border-right-color: var(--fill-color);\n",
              "    }\n",
              "    80% {\n",
              "      border-color: transparent;\n",
              "      border-right-color: var(--fill-color);\n",
              "      border-bottom-color: var(--fill-color);\n",
              "    }\n",
              "    90% {\n",
              "      border-color: transparent;\n",
              "      border-bottom-color: var(--fill-color);\n",
              "    }\n",
              "  }\n",
              "</style>\n",
              "\n",
              "      <script>\n",
              "        async function quickchart(key) {\n",
              "          const quickchartButtonEl =\n",
              "            document.querySelector('#' + key + ' button');\n",
              "          quickchartButtonEl.disabled = true;  // To prevent multiple clicks.\n",
              "          quickchartButtonEl.classList.add('colab-df-spinner');\n",
              "          try {\n",
              "            const charts = await google.colab.kernel.invokeFunction(\n",
              "                'suggestCharts', [key], {});\n",
              "          } catch (error) {\n",
              "            console.error('Error during call to suggestCharts:', error);\n",
              "          }\n",
              "          quickchartButtonEl.classList.remove('colab-df-spinner');\n",
              "          quickchartButtonEl.classList.add('colab-df-quickchart-complete');\n",
              "        }\n",
              "        (() => {\n",
              "          let quickchartButtonEl =\n",
              "            document.querySelector('#df-57ead8cc-04b9-4cd0-9a5e-870d8be66a36 button');\n",
              "          quickchartButtonEl.style.display =\n",
              "            google.colab.kernel.accessAllowed ? 'block' : 'none';\n",
              "        })();\n",
              "      </script>\n",
              "    </div>\n",
              "\n",
              "    </div>\n",
              "  </div>\n"
            ],
            "application/vnd.google.colaboratory.intrinsic+json": {
              "type": "dataframe",
              "variable_name": "hiv",
              "summary": "{\n  \"name\": \"hiv\",\n  \"rows\": 4820,\n  \"fields\": [\n    {\n      \"column\": \"age\",\n      \"properties\": {\n        \"dtype\": \"number\",\n        \"std\": 13.16285797577304,\n        \"min\": 11.0,\n        \"max\": 84.0,\n        \"num_unique_values\": 70,\n        \"samples\": [\n          32.0,\n          22.0,\n          68.0\n        ],\n        \"semantic_type\": \"\",\n        \"description\": \"\"\n      }\n    },\n    {\n      \"column\": \"male\",\n      \"properties\": {\n        \"dtype\": \"number\",\n        \"std\": 0.49908235988881805,\n        \"min\": 0.0,\n        \"max\": 1.0,\n        \"num_unique_values\": 2,\n        \"samples\": [\n          0.0,\n          1.0\n        ],\n        \"semantic_type\": \"\",\n        \"description\": \"\"\n      }\n    },\n    {\n      \"column\": \"hiv2004\",\n      \"properties\": {\n        \"dtype\": \"number\",\n        \"std\": 0.2555272107752643,\n        \"min\": -1.0,\n        \"max\": 1.0,\n        \"num_unique_values\": 3,\n        \"samples\": [\n          0.0,\n          1.0\n        ],\n        \"semantic_type\": \"\",\n        \"description\": \"\"\n      }\n    },\n    {\n      \"column\": \"educ2004\",\n      \"properties\": {\n        \"dtype\": \"number\",\n        \"std\": 3.6840153613625946,\n        \"min\": 0.0,\n        \"max\": 12.0,\n        \"num_unique_values\": 13,\n        \"samples\": [\n          12.0,\n          11.0\n        ],\n        \"semantic_type\": \"\",\n        \"description\": \"\"\n      }\n    },\n    {\n      \"column\": \"land2004\",\n      \"properties\": {\n        \"dtype\": \"number\",\n        \"std\": 0.4361329312558304,\n        \"min\": 0.0,\n        \"max\": 1.0,\n        \"num_unique_values\": 2,\n        \"samples\": [\n          0.0,\n          1.0\n        ],\n        \"semantic_type\": \"\",\n        \"description\": \"\"\n      }\n    },\n    {\n      \"column\": \"usecondom04\",\n      \"properties\": {\n        \"dtype\": \"number\",\n        \"std\": 0.4041486293451021,\n        \"min\": 0.0,\n        \"max\": 1.0,\n        \"num_unique_values\": 2,\n        \"samples\": [\n          0.0,\n          1.0\n        ],\n        \"semantic_type\": \"\",\n        \"description\": \"\"\n      }\n    },\n    {\n      \"column\": \"got\",\n      \"properties\": {\n        \"dtype\": \"number\",\n        \"std\": 0.4598000790775482,\n        \"min\": 0.0,\n        \"max\": 1.0,\n        \"num_unique_values\": 2,\n        \"samples\": [\n          0.0,\n          1.0\n        ],\n        \"semantic_type\": \"\",\n        \"description\": \"\"\n      }\n    },\n    {\n      \"column\": \"any\",\n      \"properties\": {\n        \"dtype\": \"number\",\n        \"std\": 0.4234811181318576,\n        \"min\": 0.0,\n        \"max\": 1.0,\n        \"num_unique_values\": 2,\n        \"samples\": [\n          0.0,\n          1.0\n        ],\n        \"semantic_type\": \"\",\n        \"description\": \"\"\n      }\n    },\n    {\n      \"column\": \"villnum\",\n      \"properties\": {\n        \"dtype\": \"number\",\n        \"std\": 48.311774054550526,\n        \"min\": 1.0,\n        \"max\": 145.0,\n        \"num_unique_values\": 124,\n        \"samples\": [\n          22.0,\n          48.0\n        ],\n        \"semantic_type\": \"\",\n        \"description\": \"\"\n      }\n    },\n    {\n      \"column\": \"tinc\",\n      \"properties\": {\n        \"dtype\": \"number\",\n        \"std\": 0.9013604219427211,\n        \"min\": 0.0,\n        \"max\": 2.8368,\n        \"num_unique_values\": 27,\n        \"samples\": [\n          0.66192,\n          1.04016\n        ],\n        \"semantic_type\": \"\",\n        \"description\": \"\"\n      }\n    },\n    {\n      \"column\": \"under\",\n      \"properties\": {\n        \"dtype\": \"number\",\n        \"std\": 0.4930109554395574,\n        \"min\": 0.0,\n        \"max\": 1.0,\n        \"num_unique_values\": 2,\n        \"samples\": [\n          1.0,\n          0.0\n        ],\n        \"semantic_type\": \"\",\n        \"description\": \"\"\n      }\n    },\n    {\n      \"column\": \"rumphi\",\n      \"properties\": {\n        \"dtype\": \"number\",\n        \"std\": 0.47398166319024787,\n        \"min\": 0.0,\n        \"max\": 1.0,\n        \"num_unique_values\": 2,\n        \"samples\": [\n          1.0,\n          0.0\n        ],\n        \"semantic_type\": \"\",\n        \"description\": \"\"\n      }\n    },\n    {\n      \"column\": \"balaka\",\n      \"properties\": {\n        \"dtype\": \"number\",\n        \"std\": 0.47147787655694184,\n        \"min\": 0.0,\n        \"max\": 1.0,\n        \"num_unique_values\": 2,\n        \"samples\": [\n          0.0,\n          1.0\n        ],\n        \"semantic_type\": \"\",\n        \"description\": \"\"\n      }\n    },\n    {\n      \"column\": \"Ti\",\n      \"properties\": {\n        \"dtype\": \"number\",\n        \"std\": 102.21895650282111,\n        \"min\": 0.0,\n        \"max\": 300.0,\n        \"num_unique_values\": 5,\n        \"samples\": [\n          200.0,\n          0.0\n        ],\n        \"semantic_type\": \"\",\n        \"description\": \"\"\n      }\n    },\n    {\n      \"column\": \"numcond\",\n      \"properties\": {\n        \"dtype\": \"number\",\n        \"std\": 1.8899840121420852,\n        \"min\": 0.0,\n        \"max\": 18.0,\n        \"num_unique_values\": 9,\n        \"samples\": [\n          9.0,\n          3.0\n        ],\n        \"semantic_type\": \"\",\n        \"description\": \"\"\n      }\n    },\n    {\n      \"column\": \"anycond\",\n      \"properties\": {\n        \"dtype\": \"number\",\n        \"std\": 0.42641894044102835,\n        \"min\": 0.0,\n        \"max\": 1.0,\n        \"num_unique_values\": 2,\n        \"samples\": [\n          0.0,\n          1.0\n        ],\n        \"semantic_type\": \"\",\n        \"description\": \"\"\n      }\n    },\n    {\n      \"column\": \"bought\",\n      \"properties\": {\n        \"dtype\": \"number\",\n        \"std\": 0.2748869573808701,\n        \"min\": 0.0,\n        \"max\": 1.0,\n        \"num_unique_values\": 2,\n        \"samples\": [\n          0.0,\n          1.0\n        ],\n        \"semantic_type\": \"\",\n        \"description\": \"\"\n      }\n    },\n    {\n      \"column\": \"survey2004\",\n      \"properties\": {\n        \"dtype\": \"number\",\n        \"std\": 0.46736728894501717,\n        \"min\": 0.0,\n        \"max\": 1.0,\n        \"num_unique_values\": 2,\n        \"samples\": [\n          0.0,\n          1.0\n        ],\n        \"semantic_type\": \"\",\n        \"description\": \"\"\n      }\n    },\n    {\n      \"column\": \"followupsurvey\",\n      \"properties\": {\n        \"dtype\": \"number\",\n        \"std\": 0.4999768775346865,\n        \"min\": 0.0,\n        \"max\": 1.0,\n        \"num_unique_values\": 2,\n        \"samples\": [\n          0.0,\n          1.0\n        ],\n        \"semantic_type\": \"\",\n        \"description\": \"\"\n      }\n    }\n  ]\n}"
            }
          },
          "metadata": {},
          "execution_count": 6
        }
      ]
    },
    {
      "cell_type": "markdown",
      "source": [
        "Variable description that we will use:\n",
        "- `any`: an indicator variable for if the participant received any incentive.\n",
        "- `got`: denotes that the individual went and got their test result information.\n",
        "- `tinc`: total value of incentives\n",
        "- `hiv2004`: whether they had HIV in the baseline\n",
        "- `usecondom04`: whether they used condoms in the baseline\n",
        "- `numcond`: number of condoms purchased at the follow‐up survey\n",
        "- `anycond`: indicator of any condoms purchased at the follow‐up survey\n",
        "- `bought`: indicator if bought any condoms at the time of the follow‐up survey\n",
        "- `survey2004`: completed baseline survey in 2004 (1=completed)\n",
        "- `followupsurvey`: indicator if was interviewed at the follow‐up survey in 2005"
      ],
      "metadata": {
        "id": "6Vm4EyuEQiSV"
      }
    },
    {
      "cell_type": "markdown",
      "source": [
        "### Missing Value Checking"
      ],
      "metadata": {
        "id": "QuTW_bI-Qmle"
      }
    },
    {
      "cell_type": "code",
      "source": [
        "hiv.isna().sum()"
      ],
      "metadata": {
        "id": "j9BmHvbPQoN_",
        "colab": {
          "base_uri": "https://localhost:8080/",
          "height": 680
        },
        "outputId": "10bd5eaf-323b-4541-a95e-1913daf1729a"
      },
      "execution_count": 7,
      "outputs": [
        {
          "output_type": "execute_result",
          "data": {
            "text/plain": [
              "age                441\n",
              "male                 0\n",
              "hiv2004           1926\n",
              "educ2004          1666\n",
              "land2004          1558\n",
              "usecondom04       1813\n",
              "got               1926\n",
              "any               1919\n",
              "villnum             27\n",
              "tinc              1919\n",
              "under                0\n",
              "rumphi               0\n",
              "balaka               0\n",
              "Ti                1919\n",
              "numcond           3228\n",
              "anycond           3228\n",
              "bought            3228\n",
              "survey2004           0\n",
              "followupsurvey    1571\n",
              "dtype: int64"
            ],
            "text/html": [
              "<div>\n",
              "<style scoped>\n",
              "    .dataframe tbody tr th:only-of-type {\n",
              "        vertical-align: middle;\n",
              "    }\n",
              "\n",
              "    .dataframe tbody tr th {\n",
              "        vertical-align: top;\n",
              "    }\n",
              "\n",
              "    .dataframe thead th {\n",
              "        text-align: right;\n",
              "    }\n",
              "</style>\n",
              "<table border=\"1\" class=\"dataframe\">\n",
              "  <thead>\n",
              "    <tr style=\"text-align: right;\">\n",
              "      <th></th>\n",
              "      <th>0</th>\n",
              "    </tr>\n",
              "  </thead>\n",
              "  <tbody>\n",
              "    <tr>\n",
              "      <th>age</th>\n",
              "      <td>441</td>\n",
              "    </tr>\n",
              "    <tr>\n",
              "      <th>male</th>\n",
              "      <td>0</td>\n",
              "    </tr>\n",
              "    <tr>\n",
              "      <th>hiv2004</th>\n",
              "      <td>1926</td>\n",
              "    </tr>\n",
              "    <tr>\n",
              "      <th>educ2004</th>\n",
              "      <td>1666</td>\n",
              "    </tr>\n",
              "    <tr>\n",
              "      <th>land2004</th>\n",
              "      <td>1558</td>\n",
              "    </tr>\n",
              "    <tr>\n",
              "      <th>usecondom04</th>\n",
              "      <td>1813</td>\n",
              "    </tr>\n",
              "    <tr>\n",
              "      <th>got</th>\n",
              "      <td>1926</td>\n",
              "    </tr>\n",
              "    <tr>\n",
              "      <th>any</th>\n",
              "      <td>1919</td>\n",
              "    </tr>\n",
              "    <tr>\n",
              "      <th>villnum</th>\n",
              "      <td>27</td>\n",
              "    </tr>\n",
              "    <tr>\n",
              "      <th>tinc</th>\n",
              "      <td>1919</td>\n",
              "    </tr>\n",
              "    <tr>\n",
              "      <th>under</th>\n",
              "      <td>0</td>\n",
              "    </tr>\n",
              "    <tr>\n",
              "      <th>rumphi</th>\n",
              "      <td>0</td>\n",
              "    </tr>\n",
              "    <tr>\n",
              "      <th>balaka</th>\n",
              "      <td>0</td>\n",
              "    </tr>\n",
              "    <tr>\n",
              "      <th>Ti</th>\n",
              "      <td>1919</td>\n",
              "    </tr>\n",
              "    <tr>\n",
              "      <th>numcond</th>\n",
              "      <td>3228</td>\n",
              "    </tr>\n",
              "    <tr>\n",
              "      <th>anycond</th>\n",
              "      <td>3228</td>\n",
              "    </tr>\n",
              "    <tr>\n",
              "      <th>bought</th>\n",
              "      <td>3228</td>\n",
              "    </tr>\n",
              "    <tr>\n",
              "      <th>survey2004</th>\n",
              "      <td>0</td>\n",
              "    </tr>\n",
              "    <tr>\n",
              "      <th>followupsurvey</th>\n",
              "      <td>1571</td>\n",
              "    </tr>\n",
              "  </tbody>\n",
              "</table>\n",
              "</div><br><label><b>dtype:</b> int64</label>"
            ]
          },
          "metadata": {},
          "execution_count": 7
        }
      ]
    },
    {
      "cell_type": "markdown",
      "source": [
        "### Drop Missing Value"
      ],
      "metadata": {
        "id": "iuxCr0dKQrlQ"
      }
    },
    {
      "cell_type": "markdown",
      "source": [
        "We need complete case in most variables to analyze the data better, so we drop the missing value, and focusing where all variables are complete"
      ],
      "metadata": {
        "id": "-_zcNw3NQs7H"
      }
    },
    {
      "cell_type": "code",
      "source": [
        "# Store complete case dataset to new dataframe\n",
        "hiv_complete = hiv.dropna()\n",
        "\n",
        "# Sanity check\n",
        "hiv_complete.isna().sum()"
      ],
      "metadata": {
        "id": "jKOrxNsNQtsP",
        "colab": {
          "base_uri": "https://localhost:8080/",
          "height": 680
        },
        "outputId": "cce3a36f-a1af-467c-b77c-f34b667f77ca"
      },
      "execution_count": 8,
      "outputs": [
        {
          "output_type": "execute_result",
          "data": {
            "text/plain": [
              "age               0\n",
              "male              0\n",
              "hiv2004           0\n",
              "educ2004          0\n",
              "land2004          0\n",
              "usecondom04       0\n",
              "got               0\n",
              "any               0\n",
              "villnum           0\n",
              "tinc              0\n",
              "under             0\n",
              "rumphi            0\n",
              "balaka            0\n",
              "Ti                0\n",
              "numcond           0\n",
              "anycond           0\n",
              "bought            0\n",
              "survey2004        0\n",
              "followupsurvey    0\n",
              "dtype: int64"
            ],
            "text/html": [
              "<div>\n",
              "<style scoped>\n",
              "    .dataframe tbody tr th:only-of-type {\n",
              "        vertical-align: middle;\n",
              "    }\n",
              "\n",
              "    .dataframe tbody tr th {\n",
              "        vertical-align: top;\n",
              "    }\n",
              "\n",
              "    .dataframe thead th {\n",
              "        text-align: right;\n",
              "    }\n",
              "</style>\n",
              "<table border=\"1\" class=\"dataframe\">\n",
              "  <thead>\n",
              "    <tr style=\"text-align: right;\">\n",
              "      <th></th>\n",
              "      <th>0</th>\n",
              "    </tr>\n",
              "  </thead>\n",
              "  <tbody>\n",
              "    <tr>\n",
              "      <th>age</th>\n",
              "      <td>0</td>\n",
              "    </tr>\n",
              "    <tr>\n",
              "      <th>male</th>\n",
              "      <td>0</td>\n",
              "    </tr>\n",
              "    <tr>\n",
              "      <th>hiv2004</th>\n",
              "      <td>0</td>\n",
              "    </tr>\n",
              "    <tr>\n",
              "      <th>educ2004</th>\n",
              "      <td>0</td>\n",
              "    </tr>\n",
              "    <tr>\n",
              "      <th>land2004</th>\n",
              "      <td>0</td>\n",
              "    </tr>\n",
              "    <tr>\n",
              "      <th>usecondom04</th>\n",
              "      <td>0</td>\n",
              "    </tr>\n",
              "    <tr>\n",
              "      <th>got</th>\n",
              "      <td>0</td>\n",
              "    </tr>\n",
              "    <tr>\n",
              "      <th>any</th>\n",
              "      <td>0</td>\n",
              "    </tr>\n",
              "    <tr>\n",
              "      <th>villnum</th>\n",
              "      <td>0</td>\n",
              "    </tr>\n",
              "    <tr>\n",
              "      <th>tinc</th>\n",
              "      <td>0</td>\n",
              "    </tr>\n",
              "    <tr>\n",
              "      <th>under</th>\n",
              "      <td>0</td>\n",
              "    </tr>\n",
              "    <tr>\n",
              "      <th>rumphi</th>\n",
              "      <td>0</td>\n",
              "    </tr>\n",
              "    <tr>\n",
              "      <th>balaka</th>\n",
              "      <td>0</td>\n",
              "    </tr>\n",
              "    <tr>\n",
              "      <th>Ti</th>\n",
              "      <td>0</td>\n",
              "    </tr>\n",
              "    <tr>\n",
              "      <th>numcond</th>\n",
              "      <td>0</td>\n",
              "    </tr>\n",
              "    <tr>\n",
              "      <th>anycond</th>\n",
              "      <td>0</td>\n",
              "    </tr>\n",
              "    <tr>\n",
              "      <th>bought</th>\n",
              "      <td>0</td>\n",
              "    </tr>\n",
              "    <tr>\n",
              "      <th>survey2004</th>\n",
              "      <td>0</td>\n",
              "    </tr>\n",
              "    <tr>\n",
              "      <th>followupsurvey</th>\n",
              "      <td>0</td>\n",
              "    </tr>\n",
              "  </tbody>\n",
              "</table>\n",
              "</div><br><label><b>dtype:</b> int64</label>"
            ]
          },
          "metadata": {},
          "execution_count": 8
        }
      ]
    },
    {
      "cell_type": "code",
      "source": [
        "# Shape of data after drop missing value\n",
        "hiv_complete.shape"
      ],
      "metadata": {
        "id": "-jyLmj6DQusv",
        "colab": {
          "base_uri": "https://localhost:8080/"
        },
        "outputId": "9aacb02e-31b4-464e-812e-edc5a72f68b1"
      },
      "execution_count": 9,
      "outputs": [
        {
          "output_type": "execute_result",
          "data": {
            "text/plain": [
              "(1320, 19)"
            ]
          },
          "metadata": {},
          "execution_count": 9
        }
      ]
    },
    {
      "cell_type": "code",
      "source": [
        "# Check all rows whether completed the baseline and after follow up survey or not\n",
        "len(hiv_complete[hiv_complete[\"survey2004\"] == hiv_complete[\"followupsurvey\"]]) == hiv_complete.shape[0]"
      ],
      "metadata": {
        "id": "HUK5rVrOQwIl",
        "colab": {
          "base_uri": "https://localhost:8080/"
        },
        "outputId": "2436228d-9e96-4dd8-9ded-d2fc7e41ce40"
      },
      "execution_count": 10,
      "outputs": [
        {
          "output_type": "execute_result",
          "data": {
            "text/plain": [
              "True"
            ]
          },
          "metadata": {},
          "execution_count": 10
        }
      ]
    },
    {
      "cell_type": "markdown",
      "source": [
        "### Analysis"
      ],
      "metadata": {
        "id": "pncO3-uvQxfw"
      }
    },
    {
      "cell_type": "markdown",
      "source": [
        "#### 1. Average Treatment Effect using Simple Differences"
      ],
      "metadata": {
        "id": "6T4C0qeXQy3_"
      }
    },
    {
      "cell_type": "code",
      "source": [
        "# participant the participant received some incentive\n",
        "some_incentives = hiv_complete.loc[hiv_complete['any'] == 1, 'got']\n",
        "\n",
        "# participant the participant received no incentive\n",
        "no_incentives = hiv_complete.loc[hiv_complete['any'] == 0, 'got']\n",
        "\n",
        "# difference in means\n",
        "mean_diff = some_incentives.mean() - no_incentives.mean()\n",
        "mean_diff"
      ],
      "metadata": {
        "id": "Eu3Ag7PPQzvW",
        "colab": {
          "base_uri": "https://localhost:8080/"
        },
        "outputId": "2ced7c4f-e508-4881-a909-3b433540d892"
      },
      "execution_count": 11,
      "outputs": [
        {
          "output_type": "execute_result",
          "data": {
            "text/plain": [
              "np.float64(0.44907413800245793)"
            ]
          },
          "metadata": {},
          "execution_count": 11
        }
      ]
    },
    {
      "cell_type": "markdown",
      "source": [
        "- From the difference we see, receiving any money caused a 45% increase in learning one’s HIV status.\n",
        "- Remember that this experiment involved random assignment of treatment (receiving incentivess or not), so that we can conclude that the relationship we see between treatment and outcome (got HIV result) in causal way"
      ],
      "metadata": {
        "id": "Pmpywde2Q0-2"
      }
    },
    {
      "cell_type": "markdown",
      "source": [
        "#### 2.1. Average Treatment Effect using Linear Regression"
      ],
      "metadata": {
        "id": "LjBwsMnrQ2HW"
      }
    },
    {
      "cell_type": "markdown",
      "source": [
        "- Thornton chooses to estimate a linear regression model with controls instead of relying solely on simple differences in means for several reasons.\n",
        "- One of it is that using a regression model allows her to incorporate various variables enhance the estimation. It's valuable as it enables to narrow down the range of treatment effects and provide more reliable conclusions.\n",
        "\n",
        "Use simple linear regression to see if the result is the same."
      ],
      "metadata": {
        "id": "et3vEI0OQ3CW"
      }
    },
    {
      "cell_type": "code",
      "source": [
        "# Create OLS model object\n",
        "model = smf.ols('got ~ C(any)', hiv_complete)\n",
        "\n",
        "# Fit the model\n",
        "results = model.fit()\n",
        "\n",
        "# Print the results\n",
        "print(results.summary())"
      ],
      "metadata": {
        "id": "ksrzqTkRQ4Qt",
        "colab": {
          "base_uri": "https://localhost:8080/"
        },
        "outputId": "662750b9-e875-4987-ccd1-842526f83b51"
      },
      "execution_count": 12,
      "outputs": [
        {
          "output_type": "stream",
          "name": "stdout",
          "text": [
            "                            OLS Regression Results                            \n",
            "==============================================================================\n",
            "Dep. Variable:                    got   R-squared:                       0.168\n",
            "Model:                            OLS   Adj. R-squared:                  0.168\n",
            "Method:                 Least Squares   F-statistic:                     266.4\n",
            "Date:                Fri, 18 Jul 2025   Prob (F-statistic):           1.08e-54\n",
            "Time:                        22:00:27   Log-Likelihood:                -687.19\n",
            "No. Observations:                1320   AIC:                             1378.\n",
            "Df Residuals:                    1318   BIC:                             1389.\n",
            "Df Model:                           1                                         \n",
            "Covariance Type:            nonrobust                                         \n",
            "=================================================================================\n",
            "                    coef    std err          t      P>|t|      [0.025      0.975]\n",
            "---------------------------------------------------------------------------------\n",
            "Intercept         0.3705      0.024     15.158      0.000       0.323       0.418\n",
            "C(any)[T.1.0]     0.4491      0.028     16.323      0.000       0.395       0.503\n",
            "==============================================================================\n",
            "Omnibus:                      139.201   Durbin-Watson:                   1.905\n",
            "Prob(Omnibus):                  0.000   Jarque-Bera (JB):              185.281\n",
            "Skew:                          -0.916   Prob(JB):                     5.85e-41\n",
            "Kurtosis:                       2.898   Cond. No.                         4.15\n",
            "==============================================================================\n",
            "\n",
            "Notes:\n",
            "[1] Standard Errors assume that the covariance matrix of the errors is correctly specified.\n"
          ]
        }
      ]
    },
    {
      "cell_type": "markdown",
      "source": [
        "- It is impressive that receiving any money caused a 45-percentage-point increase in learning one’s HIV status.\n",
        "- Monetary incentives—even very small ones—are enough to push many people over the hump to go collect health data."
      ],
      "metadata": {
        "id": "ut1ZoiuIjaiy"
      }
    },
    {
      "cell_type": "markdown",
      "source": [
        "#### 2.2. Treatment Effect at Difference Incentive Amounts"
      ],
      "metadata": {
        "id": "KpwvkD67Q7tf"
      }
    },
    {
      "cell_type": "markdown",
      "source": [
        "- Interestingly, Thornton varied the amount of incentive individuals received (in the variable `tinc`).\n",
        "- Let's try comparing treatment effects at different incentive amounts.\n",
        "- This is called a *dose response function*. The function that represent the treatment effect of different incentive amounts\n",
        "- Let's attempt to learn about the dose response function in two ways:"
      ],
      "metadata": {
        "id": "hu5tEBgzQ8pF"
      }
    },
    {
      "cell_type": "markdown",
      "source": [
        "1. Calculate a treatment effect using only individuals with tinc above 2 (the upper end of incentives)."
      ],
      "metadata": {
        "id": "WAeRVvlrQ9zK"
      }
    },
    {
      "cell_type": "markdown",
      "source": [
        "Participant who receive any high incentive ($\\geq$2) and no incentive (0)"
      ],
      "metadata": {
        "id": "-I9pVu2LQ-5m"
      }
    },
    {
      "cell_type": "code",
      "source": [
        "# Select participant who receive incentives above 2 or 0\n",
        "high_incentives = hiv_complete.loc[(hiv_complete['tinc'] >= 2) | (hiv_complete['tinc'] == 0)][[\"got\",\"any\"]]\n",
        "high_incentives.head()"
      ],
      "metadata": {
        "id": "lE78HY_fRMSO",
        "colab": {
          "base_uri": "https://localhost:8080/",
          "height": 206
        },
        "outputId": "b988897a-4a92-4b1e-9e38-4ef8aabf9923"
      },
      "execution_count": 13,
      "outputs": [
        {
          "output_type": "execute_result",
          "data": {
            "text/plain": [
              "     got  any\n",
              "0    1.0  1.0\n",
              "65   1.0  1.0\n",
              "87   1.0  0.0\n",
              "111  1.0  1.0\n",
              "113  0.0  0.0"
            ],
            "text/html": [
              "\n",
              "  <div id=\"df-38440366-3860-41d1-8aa5-6d5184f5a07d\" class=\"colab-df-container\">\n",
              "    <div>\n",
              "<style scoped>\n",
              "    .dataframe tbody tr th:only-of-type {\n",
              "        vertical-align: middle;\n",
              "    }\n",
              "\n",
              "    .dataframe tbody tr th {\n",
              "        vertical-align: top;\n",
              "    }\n",
              "\n",
              "    .dataframe thead th {\n",
              "        text-align: right;\n",
              "    }\n",
              "</style>\n",
              "<table border=\"1\" class=\"dataframe\">\n",
              "  <thead>\n",
              "    <tr style=\"text-align: right;\">\n",
              "      <th></th>\n",
              "      <th>got</th>\n",
              "      <th>any</th>\n",
              "    </tr>\n",
              "  </thead>\n",
              "  <tbody>\n",
              "    <tr>\n",
              "      <th>0</th>\n",
              "      <td>1.0</td>\n",
              "      <td>1.0</td>\n",
              "    </tr>\n",
              "    <tr>\n",
              "      <th>65</th>\n",
              "      <td>1.0</td>\n",
              "      <td>1.0</td>\n",
              "    </tr>\n",
              "    <tr>\n",
              "      <th>87</th>\n",
              "      <td>1.0</td>\n",
              "      <td>0.0</td>\n",
              "    </tr>\n",
              "    <tr>\n",
              "      <th>111</th>\n",
              "      <td>1.0</td>\n",
              "      <td>1.0</td>\n",
              "    </tr>\n",
              "    <tr>\n",
              "      <th>113</th>\n",
              "      <td>0.0</td>\n",
              "      <td>0.0</td>\n",
              "    </tr>\n",
              "  </tbody>\n",
              "</table>\n",
              "</div>\n",
              "    <div class=\"colab-df-buttons\">\n",
              "\n",
              "  <div class=\"colab-df-container\">\n",
              "    <button class=\"colab-df-convert\" onclick=\"convertToInteractive('df-38440366-3860-41d1-8aa5-6d5184f5a07d')\"\n",
              "            title=\"Convert this dataframe to an interactive table.\"\n",
              "            style=\"display:none;\">\n",
              "\n",
              "  <svg xmlns=\"http://www.w3.org/2000/svg\" height=\"24px\" viewBox=\"0 -960 960 960\">\n",
              "    <path d=\"M120-120v-720h720v720H120Zm60-500h600v-160H180v160Zm220 220h160v-160H400v160Zm0 220h160v-160H400v160ZM180-400h160v-160H180v160Zm440 0h160v-160H620v160ZM180-180h160v-160H180v160Zm440 0h160v-160H620v160Z\"/>\n",
              "  </svg>\n",
              "    </button>\n",
              "\n",
              "  <style>\n",
              "    .colab-df-container {\n",
              "      display:flex;\n",
              "      gap: 12px;\n",
              "    }\n",
              "\n",
              "    .colab-df-convert {\n",
              "      background-color: #E8F0FE;\n",
              "      border: none;\n",
              "      border-radius: 50%;\n",
              "      cursor: pointer;\n",
              "      display: none;\n",
              "      fill: #1967D2;\n",
              "      height: 32px;\n",
              "      padding: 0 0 0 0;\n",
              "      width: 32px;\n",
              "    }\n",
              "\n",
              "    .colab-df-convert:hover {\n",
              "      background-color: #E2EBFA;\n",
              "      box-shadow: 0px 1px 2px rgba(60, 64, 67, 0.3), 0px 1px 3px 1px rgba(60, 64, 67, 0.15);\n",
              "      fill: #174EA6;\n",
              "    }\n",
              "\n",
              "    .colab-df-buttons div {\n",
              "      margin-bottom: 4px;\n",
              "    }\n",
              "\n",
              "    [theme=dark] .colab-df-convert {\n",
              "      background-color: #3B4455;\n",
              "      fill: #D2E3FC;\n",
              "    }\n",
              "\n",
              "    [theme=dark] .colab-df-convert:hover {\n",
              "      background-color: #434B5C;\n",
              "      box-shadow: 0px 1px 3px 1px rgba(0, 0, 0, 0.15);\n",
              "      filter: drop-shadow(0px 1px 2px rgba(0, 0, 0, 0.3));\n",
              "      fill: #FFFFFF;\n",
              "    }\n",
              "  </style>\n",
              "\n",
              "    <script>\n",
              "      const buttonEl =\n",
              "        document.querySelector('#df-38440366-3860-41d1-8aa5-6d5184f5a07d button.colab-df-convert');\n",
              "      buttonEl.style.display =\n",
              "        google.colab.kernel.accessAllowed ? 'block' : 'none';\n",
              "\n",
              "      async function convertToInteractive(key) {\n",
              "        const element = document.querySelector('#df-38440366-3860-41d1-8aa5-6d5184f5a07d');\n",
              "        const dataTable =\n",
              "          await google.colab.kernel.invokeFunction('convertToInteractive',\n",
              "                                                    [key], {});\n",
              "        if (!dataTable) return;\n",
              "\n",
              "        const docLinkHtml = 'Like what you see? Visit the ' +\n",
              "          '<a target=\"_blank\" href=https://colab.research.google.com/notebooks/data_table.ipynb>data table notebook</a>'\n",
              "          + ' to learn more about interactive tables.';\n",
              "        element.innerHTML = '';\n",
              "        dataTable['output_type'] = 'display_data';\n",
              "        await google.colab.output.renderOutput(dataTable, element);\n",
              "        const docLink = document.createElement('div');\n",
              "        docLink.innerHTML = docLinkHtml;\n",
              "        element.appendChild(docLink);\n",
              "      }\n",
              "    </script>\n",
              "  </div>\n",
              "\n",
              "\n",
              "    <div id=\"df-a662f057-d92a-41f5-8203-25f13bfee84f\">\n",
              "      <button class=\"colab-df-quickchart\" onclick=\"quickchart('df-a662f057-d92a-41f5-8203-25f13bfee84f')\"\n",
              "                title=\"Suggest charts\"\n",
              "                style=\"display:none;\">\n",
              "\n",
              "<svg xmlns=\"http://www.w3.org/2000/svg\" height=\"24px\"viewBox=\"0 0 24 24\"\n",
              "     width=\"24px\">\n",
              "    <g>\n",
              "        <path d=\"M19 3H5c-1.1 0-2 .9-2 2v14c0 1.1.9 2 2 2h14c1.1 0 2-.9 2-2V5c0-1.1-.9-2-2-2zM9 17H7v-7h2v7zm4 0h-2V7h2v10zm4 0h-2v-4h2v4z\"/>\n",
              "    </g>\n",
              "</svg>\n",
              "      </button>\n",
              "\n",
              "<style>\n",
              "  .colab-df-quickchart {\n",
              "      --bg-color: #E8F0FE;\n",
              "      --fill-color: #1967D2;\n",
              "      --hover-bg-color: #E2EBFA;\n",
              "      --hover-fill-color: #174EA6;\n",
              "      --disabled-fill-color: #AAA;\n",
              "      --disabled-bg-color: #DDD;\n",
              "  }\n",
              "\n",
              "  [theme=dark] .colab-df-quickchart {\n",
              "      --bg-color: #3B4455;\n",
              "      --fill-color: #D2E3FC;\n",
              "      --hover-bg-color: #434B5C;\n",
              "      --hover-fill-color: #FFFFFF;\n",
              "      --disabled-bg-color: #3B4455;\n",
              "      --disabled-fill-color: #666;\n",
              "  }\n",
              "\n",
              "  .colab-df-quickchart {\n",
              "    background-color: var(--bg-color);\n",
              "    border: none;\n",
              "    border-radius: 50%;\n",
              "    cursor: pointer;\n",
              "    display: none;\n",
              "    fill: var(--fill-color);\n",
              "    height: 32px;\n",
              "    padding: 0;\n",
              "    width: 32px;\n",
              "  }\n",
              "\n",
              "  .colab-df-quickchart:hover {\n",
              "    background-color: var(--hover-bg-color);\n",
              "    box-shadow: 0 1px 2px rgba(60, 64, 67, 0.3), 0 1px 3px 1px rgba(60, 64, 67, 0.15);\n",
              "    fill: var(--button-hover-fill-color);\n",
              "  }\n",
              "\n",
              "  .colab-df-quickchart-complete:disabled,\n",
              "  .colab-df-quickchart-complete:disabled:hover {\n",
              "    background-color: var(--disabled-bg-color);\n",
              "    fill: var(--disabled-fill-color);\n",
              "    box-shadow: none;\n",
              "  }\n",
              "\n",
              "  .colab-df-spinner {\n",
              "    border: 2px solid var(--fill-color);\n",
              "    border-color: transparent;\n",
              "    border-bottom-color: var(--fill-color);\n",
              "    animation:\n",
              "      spin 1s steps(1) infinite;\n",
              "  }\n",
              "\n",
              "  @keyframes spin {\n",
              "    0% {\n",
              "      border-color: transparent;\n",
              "      border-bottom-color: var(--fill-color);\n",
              "      border-left-color: var(--fill-color);\n",
              "    }\n",
              "    20% {\n",
              "      border-color: transparent;\n",
              "      border-left-color: var(--fill-color);\n",
              "      border-top-color: var(--fill-color);\n",
              "    }\n",
              "    30% {\n",
              "      border-color: transparent;\n",
              "      border-left-color: var(--fill-color);\n",
              "      border-top-color: var(--fill-color);\n",
              "      border-right-color: var(--fill-color);\n",
              "    }\n",
              "    40% {\n",
              "      border-color: transparent;\n",
              "      border-right-color: var(--fill-color);\n",
              "      border-top-color: var(--fill-color);\n",
              "    }\n",
              "    60% {\n",
              "      border-color: transparent;\n",
              "      border-right-color: var(--fill-color);\n",
              "    }\n",
              "    80% {\n",
              "      border-color: transparent;\n",
              "      border-right-color: var(--fill-color);\n",
              "      border-bottom-color: var(--fill-color);\n",
              "    }\n",
              "    90% {\n",
              "      border-color: transparent;\n",
              "      border-bottom-color: var(--fill-color);\n",
              "    }\n",
              "  }\n",
              "</style>\n",
              "\n",
              "      <script>\n",
              "        async function quickchart(key) {\n",
              "          const quickchartButtonEl =\n",
              "            document.querySelector('#' + key + ' button');\n",
              "          quickchartButtonEl.disabled = true;  // To prevent multiple clicks.\n",
              "          quickchartButtonEl.classList.add('colab-df-spinner');\n",
              "          try {\n",
              "            const charts = await google.colab.kernel.invokeFunction(\n",
              "                'suggestCharts', [key], {});\n",
              "          } catch (error) {\n",
              "            console.error('Error during call to suggestCharts:', error);\n",
              "          }\n",
              "          quickchartButtonEl.classList.remove('colab-df-spinner');\n",
              "          quickchartButtonEl.classList.add('colab-df-quickchart-complete');\n",
              "        }\n",
              "        (() => {\n",
              "          let quickchartButtonEl =\n",
              "            document.querySelector('#df-a662f057-d92a-41f5-8203-25f13bfee84f button');\n",
              "          quickchartButtonEl.style.display =\n",
              "            google.colab.kernel.accessAllowed ? 'block' : 'none';\n",
              "        })();\n",
              "      </script>\n",
              "    </div>\n",
              "\n",
              "    </div>\n",
              "  </div>\n"
            ],
            "application/vnd.google.colaboratory.intrinsic+json": {
              "type": "dataframe",
              "variable_name": "high_incentives",
              "summary": "{\n  \"name\": \"high_incentives\",\n  \"rows\": 453,\n  \"fields\": [\n    {\n      \"column\": \"got\",\n      \"properties\": {\n        \"dtype\": \"number\",\n        \"std\": 0.4947121191933231,\n        \"min\": 0.0,\n        \"max\": 1.0,\n        \"num_unique_values\": 2,\n        \"samples\": [\n          0.0,\n          1.0\n        ],\n        \"semantic_type\": \"\",\n        \"description\": \"\"\n      }\n    },\n    {\n      \"column\": \"any\",\n      \"properties\": {\n        \"dtype\": \"number\",\n        \"std\": 0.48744217603028195,\n        \"min\": 0.0,\n        \"max\": 1.0,\n        \"num_unique_values\": 2,\n        \"samples\": [\n          0.0,\n          1.0\n        ],\n        \"semantic_type\": \"\",\n        \"description\": \"\"\n      }\n    }\n  ]\n}"
            }
          },
          "metadata": {},
          "execution_count": 13
        }
      ]
    },
    {
      "cell_type": "code",
      "source": [
        "# Create OLS model object using participant who receive high incentives\n",
        "model = smf.ols('got ~ C(any)', data = high_incentives)\n",
        "\n",
        "# Fit the model\n",
        "results = model.fit()\n",
        "\n",
        "# Print the results\n",
        "print(results.summary())"
      ],
      "metadata": {
        "id": "yP2349VQRNG-",
        "colab": {
          "base_uri": "https://localhost:8080/"
        },
        "outputId": "bd06d18a-b977-4b9b-d722-a1264387bd61"
      },
      "execution_count": 14,
      "outputs": [
        {
          "output_type": "stream",
          "name": "stdout",
          "text": [
            "                            OLS Regression Results                            \n",
            "==============================================================================\n",
            "Dep. Variable:                    got   R-squared:                       0.275\n",
            "Model:                            OLS   Adj. R-squared:                  0.274\n",
            "Method:                 Least Squares   F-statistic:                     171.2\n",
            "Date:                Fri, 18 Jul 2025   Prob (F-statistic):           2.19e-33\n",
            "Time:                        22:00:43   Log-Likelihood:                -250.59\n",
            "No. Observations:                 453   AIC:                             505.2\n",
            "Df Residuals:                     451   BIC:                             513.4\n",
            "Df Model:                           1                                         \n",
            "Covariance Type:            nonrobust                                         \n",
            "=================================================================================\n",
            "                    coef    std err          t      P>|t|      [0.025      0.975]\n",
            "---------------------------------------------------------------------------------\n",
            "Intercept         0.3705      0.025     14.650      0.000       0.321       0.420\n",
            "C(any)[T.1.0]     0.5324      0.041     13.084      0.000       0.452       0.612\n",
            "==============================================================================\n",
            "Omnibus:                       41.622   Durbin-Watson:                   1.922\n",
            "Prob(Omnibus):                  0.000   Jarque-Bera (JB):               14.346\n",
            "Skew:                           0.131   Prob(JB):                     0.000767\n",
            "Kurtosis:                       2.169   Cond. No.                         2.44\n",
            "==============================================================================\n",
            "\n",
            "Notes:\n",
            "[1] Standard Errors assume that the covariance matrix of the errors is correctly specified.\n"
          ]
        }
      ]
    },
    {
      "cell_type": "code",
      "source": [
        "# participant who receive incentives less than or equal to 1 or 0\n",
        "low_incentives = hiv_complete.loc[(hiv_complete['tinc'] <= 1) | (hiv_complete['tinc'] == 0)][[\"got\",\"any\"]]\n",
        "low_incentives.tail()"
      ],
      "metadata": {
        "id": "QjX8OXweROG1",
        "colab": {
          "base_uri": "https://localhost:8080/",
          "height": 206
        },
        "outputId": "8e877c46-dce2-4671-e048-3a5fb1500566"
      },
      "execution_count": 15,
      "outputs": [
        {
          "output_type": "execute_result",
          "data": {
            "text/plain": [
              "      got  any\n",
              "4777  1.0  1.0\n",
              "4782  1.0  0.0\n",
              "4785  1.0  1.0\n",
              "4788  1.0  1.0\n",
              "4791  1.0  0.0"
            ],
            "text/html": [
              "\n",
              "  <div id=\"df-4b80a1d1-e1d4-44d2-b602-2c2cc6744555\" class=\"colab-df-container\">\n",
              "    <div>\n",
              "<style scoped>\n",
              "    .dataframe tbody tr th:only-of-type {\n",
              "        vertical-align: middle;\n",
              "    }\n",
              "\n",
              "    .dataframe tbody tr th {\n",
              "        vertical-align: top;\n",
              "    }\n",
              "\n",
              "    .dataframe thead th {\n",
              "        text-align: right;\n",
              "    }\n",
              "</style>\n",
              "<table border=\"1\" class=\"dataframe\">\n",
              "  <thead>\n",
              "    <tr style=\"text-align: right;\">\n",
              "      <th></th>\n",
              "      <th>got</th>\n",
              "      <th>any</th>\n",
              "    </tr>\n",
              "  </thead>\n",
              "  <tbody>\n",
              "    <tr>\n",
              "      <th>4777</th>\n",
              "      <td>1.0</td>\n",
              "      <td>1.0</td>\n",
              "    </tr>\n",
              "    <tr>\n",
              "      <th>4782</th>\n",
              "      <td>1.0</td>\n",
              "      <td>0.0</td>\n",
              "    </tr>\n",
              "    <tr>\n",
              "      <th>4785</th>\n",
              "      <td>1.0</td>\n",
              "      <td>1.0</td>\n",
              "    </tr>\n",
              "    <tr>\n",
              "      <th>4788</th>\n",
              "      <td>1.0</td>\n",
              "      <td>1.0</td>\n",
              "    </tr>\n",
              "    <tr>\n",
              "      <th>4791</th>\n",
              "      <td>1.0</td>\n",
              "      <td>0.0</td>\n",
              "    </tr>\n",
              "  </tbody>\n",
              "</table>\n",
              "</div>\n",
              "    <div class=\"colab-df-buttons\">\n",
              "\n",
              "  <div class=\"colab-df-container\">\n",
              "    <button class=\"colab-df-convert\" onclick=\"convertToInteractive('df-4b80a1d1-e1d4-44d2-b602-2c2cc6744555')\"\n",
              "            title=\"Convert this dataframe to an interactive table.\"\n",
              "            style=\"display:none;\">\n",
              "\n",
              "  <svg xmlns=\"http://www.w3.org/2000/svg\" height=\"24px\" viewBox=\"0 -960 960 960\">\n",
              "    <path d=\"M120-120v-720h720v720H120Zm60-500h600v-160H180v160Zm220 220h160v-160H400v160Zm0 220h160v-160H400v160ZM180-400h160v-160H180v160Zm440 0h160v-160H620v160ZM180-180h160v-160H180v160Zm440 0h160v-160H620v160Z\"/>\n",
              "  </svg>\n",
              "    </button>\n",
              "\n",
              "  <style>\n",
              "    .colab-df-container {\n",
              "      display:flex;\n",
              "      gap: 12px;\n",
              "    }\n",
              "\n",
              "    .colab-df-convert {\n",
              "      background-color: #E8F0FE;\n",
              "      border: none;\n",
              "      border-radius: 50%;\n",
              "      cursor: pointer;\n",
              "      display: none;\n",
              "      fill: #1967D2;\n",
              "      height: 32px;\n",
              "      padding: 0 0 0 0;\n",
              "      width: 32px;\n",
              "    }\n",
              "\n",
              "    .colab-df-convert:hover {\n",
              "      background-color: #E2EBFA;\n",
              "      box-shadow: 0px 1px 2px rgba(60, 64, 67, 0.3), 0px 1px 3px 1px rgba(60, 64, 67, 0.15);\n",
              "      fill: #174EA6;\n",
              "    }\n",
              "\n",
              "    .colab-df-buttons div {\n",
              "      margin-bottom: 4px;\n",
              "    }\n",
              "\n",
              "    [theme=dark] .colab-df-convert {\n",
              "      background-color: #3B4455;\n",
              "      fill: #D2E3FC;\n",
              "    }\n",
              "\n",
              "    [theme=dark] .colab-df-convert:hover {\n",
              "      background-color: #434B5C;\n",
              "      box-shadow: 0px 1px 3px 1px rgba(0, 0, 0, 0.15);\n",
              "      filter: drop-shadow(0px 1px 2px rgba(0, 0, 0, 0.3));\n",
              "      fill: #FFFFFF;\n",
              "    }\n",
              "  </style>\n",
              "\n",
              "    <script>\n",
              "      const buttonEl =\n",
              "        document.querySelector('#df-4b80a1d1-e1d4-44d2-b602-2c2cc6744555 button.colab-df-convert');\n",
              "      buttonEl.style.display =\n",
              "        google.colab.kernel.accessAllowed ? 'block' : 'none';\n",
              "\n",
              "      async function convertToInteractive(key) {\n",
              "        const element = document.querySelector('#df-4b80a1d1-e1d4-44d2-b602-2c2cc6744555');\n",
              "        const dataTable =\n",
              "          await google.colab.kernel.invokeFunction('convertToInteractive',\n",
              "                                                    [key], {});\n",
              "        if (!dataTable) return;\n",
              "\n",
              "        const docLinkHtml = 'Like what you see? Visit the ' +\n",
              "          '<a target=\"_blank\" href=https://colab.research.google.com/notebooks/data_table.ipynb>data table notebook</a>'\n",
              "          + ' to learn more about interactive tables.';\n",
              "        element.innerHTML = '';\n",
              "        dataTable['output_type'] = 'display_data';\n",
              "        await google.colab.output.renderOutput(dataTable, element);\n",
              "        const docLink = document.createElement('div');\n",
              "        docLink.innerHTML = docLinkHtml;\n",
              "        element.appendChild(docLink);\n",
              "      }\n",
              "    </script>\n",
              "  </div>\n",
              "\n",
              "\n",
              "    <div id=\"df-b7180817-3c99-421e-8a56-5c409dcf60f2\">\n",
              "      <button class=\"colab-df-quickchart\" onclick=\"quickchart('df-b7180817-3c99-421e-8a56-5c409dcf60f2')\"\n",
              "                title=\"Suggest charts\"\n",
              "                style=\"display:none;\">\n",
              "\n",
              "<svg xmlns=\"http://www.w3.org/2000/svg\" height=\"24px\"viewBox=\"0 0 24 24\"\n",
              "     width=\"24px\">\n",
              "    <g>\n",
              "        <path d=\"M19 3H5c-1.1 0-2 .9-2 2v14c0 1.1.9 2 2 2h14c1.1 0 2-.9 2-2V5c0-1.1-.9-2-2-2zM9 17H7v-7h2v7zm4 0h-2V7h2v10zm4 0h-2v-4h2v4z\"/>\n",
              "    </g>\n",
              "</svg>\n",
              "      </button>\n",
              "\n",
              "<style>\n",
              "  .colab-df-quickchart {\n",
              "      --bg-color: #E8F0FE;\n",
              "      --fill-color: #1967D2;\n",
              "      --hover-bg-color: #E2EBFA;\n",
              "      --hover-fill-color: #174EA6;\n",
              "      --disabled-fill-color: #AAA;\n",
              "      --disabled-bg-color: #DDD;\n",
              "  }\n",
              "\n",
              "  [theme=dark] .colab-df-quickchart {\n",
              "      --bg-color: #3B4455;\n",
              "      --fill-color: #D2E3FC;\n",
              "      --hover-bg-color: #434B5C;\n",
              "      --hover-fill-color: #FFFFFF;\n",
              "      --disabled-bg-color: #3B4455;\n",
              "      --disabled-fill-color: #666;\n",
              "  }\n",
              "\n",
              "  .colab-df-quickchart {\n",
              "    background-color: var(--bg-color);\n",
              "    border: none;\n",
              "    border-radius: 50%;\n",
              "    cursor: pointer;\n",
              "    display: none;\n",
              "    fill: var(--fill-color);\n",
              "    height: 32px;\n",
              "    padding: 0;\n",
              "    width: 32px;\n",
              "  }\n",
              "\n",
              "  .colab-df-quickchart:hover {\n",
              "    background-color: var(--hover-bg-color);\n",
              "    box-shadow: 0 1px 2px rgba(60, 64, 67, 0.3), 0 1px 3px 1px rgba(60, 64, 67, 0.15);\n",
              "    fill: var(--button-hover-fill-color);\n",
              "  }\n",
              "\n",
              "  .colab-df-quickchart-complete:disabled,\n",
              "  .colab-df-quickchart-complete:disabled:hover {\n",
              "    background-color: var(--disabled-bg-color);\n",
              "    fill: var(--disabled-fill-color);\n",
              "    box-shadow: none;\n",
              "  }\n",
              "\n",
              "  .colab-df-spinner {\n",
              "    border: 2px solid var(--fill-color);\n",
              "    border-color: transparent;\n",
              "    border-bottom-color: var(--fill-color);\n",
              "    animation:\n",
              "      spin 1s steps(1) infinite;\n",
              "  }\n",
              "\n",
              "  @keyframes spin {\n",
              "    0% {\n",
              "      border-color: transparent;\n",
              "      border-bottom-color: var(--fill-color);\n",
              "      border-left-color: var(--fill-color);\n",
              "    }\n",
              "    20% {\n",
              "      border-color: transparent;\n",
              "      border-left-color: var(--fill-color);\n",
              "      border-top-color: var(--fill-color);\n",
              "    }\n",
              "    30% {\n",
              "      border-color: transparent;\n",
              "      border-left-color: var(--fill-color);\n",
              "      border-top-color: var(--fill-color);\n",
              "      border-right-color: var(--fill-color);\n",
              "    }\n",
              "    40% {\n",
              "      border-color: transparent;\n",
              "      border-right-color: var(--fill-color);\n",
              "      border-top-color: var(--fill-color);\n",
              "    }\n",
              "    60% {\n",
              "      border-color: transparent;\n",
              "      border-right-color: var(--fill-color);\n",
              "    }\n",
              "    80% {\n",
              "      border-color: transparent;\n",
              "      border-right-color: var(--fill-color);\n",
              "      border-bottom-color: var(--fill-color);\n",
              "    }\n",
              "    90% {\n",
              "      border-color: transparent;\n",
              "      border-bottom-color: var(--fill-color);\n",
              "    }\n",
              "  }\n",
              "</style>\n",
              "\n",
              "      <script>\n",
              "        async function quickchart(key) {\n",
              "          const quickchartButtonEl =\n",
              "            document.querySelector('#' + key + ' button');\n",
              "          quickchartButtonEl.disabled = true;  // To prevent multiple clicks.\n",
              "          quickchartButtonEl.classList.add('colab-df-spinner');\n",
              "          try {\n",
              "            const charts = await google.colab.kernel.invokeFunction(\n",
              "                'suggestCharts', [key], {});\n",
              "          } catch (error) {\n",
              "            console.error('Error during call to suggestCharts:', error);\n",
              "          }\n",
              "          quickchartButtonEl.classList.remove('colab-df-spinner');\n",
              "          quickchartButtonEl.classList.add('colab-df-quickchart-complete');\n",
              "        }\n",
              "        (() => {\n",
              "          let quickchartButtonEl =\n",
              "            document.querySelector('#df-b7180817-3c99-421e-8a56-5c409dcf60f2 button');\n",
              "          quickchartButtonEl.style.display =\n",
              "            google.colab.kernel.accessAllowed ? 'block' : 'none';\n",
              "        })();\n",
              "      </script>\n",
              "    </div>\n",
              "\n",
              "    </div>\n",
              "  </div>\n"
            ],
            "application/vnd.google.colaboratory.intrinsic+json": {
              "type": "dataframe",
              "summary": "{\n  \"name\": \"low_incentives\",\n  \"rows\": 5,\n  \"fields\": [\n    {\n      \"column\": \"got\",\n      \"properties\": {\n        \"dtype\": \"number\",\n        \"std\": 0.0,\n        \"min\": 1.0,\n        \"max\": 1.0,\n        \"num_unique_values\": 1,\n        \"samples\": [\n          1.0\n        ],\n        \"semantic_type\": \"\",\n        \"description\": \"\"\n      }\n    },\n    {\n      \"column\": \"any\",\n      \"properties\": {\n        \"dtype\": \"number\",\n        \"std\": 0.5477225575051662,\n        \"min\": 0.0,\n        \"max\": 1.0,\n        \"num_unique_values\": 2,\n        \"samples\": [\n          0.0\n        ],\n        \"semantic_type\": \"\",\n        \"description\": \"\"\n      }\n    }\n  ]\n}"
            }
          },
          "metadata": {},
          "execution_count": 15
        }
      ]
    },
    {
      "cell_type": "code",
      "source": [
        "# Create OLS model object using participant who receive high incentives\n",
        "model = smf.ols('got ~ C(any)', data = low_incentives)\n",
        "\n",
        "# Fit the model\n",
        "results = model.fit()\n",
        "\n",
        "# Print the results\n",
        "print(results.summary())"
      ],
      "metadata": {
        "id": "J_AF9jj0RO8-",
        "colab": {
          "base_uri": "https://localhost:8080/"
        },
        "outputId": "3104e82f-e47c-4460-f771-8f396a4c80af"
      },
      "execution_count": 16,
      "outputs": [
        {
          "output_type": "stream",
          "name": "stdout",
          "text": [
            "                            OLS Regression Results                            \n",
            "==============================================================================\n",
            "Dep. Variable:                    got   R-squared:                       0.128\n",
            "Model:                            OLS   Adj. R-squared:                  0.127\n",
            "Method:                 Least Squares   F-statistic:                     118.8\n",
            "Date:                Fri, 18 Jul 2025   Prob (F-statistic):           6.47e-26\n",
            "Time:                        22:00:48   Log-Likelihood:                -512.83\n",
            "No. Observations:                 812   AIC:                             1030.\n",
            "Df Residuals:                     810   BIC:                             1039.\n",
            "Df Model:                           1                                         \n",
            "Covariance Type:            nonrobust                                         \n",
            "=================================================================================\n",
            "                    coef    std err          t      P>|t|      [0.025      0.975]\n",
            "---------------------------------------------------------------------------------\n",
            "Intercept         0.3705      0.027     13.559      0.000       0.317       0.424\n",
            "C(any)[T.1.0]     0.3673      0.034     10.901      0.000       0.301       0.433\n",
            "==============================================================================\n",
            "Omnibus:                      577.787   Durbin-Watson:                   1.949\n",
            "Prob(Omnibus):                  0.000   Jarque-Bera (JB):               72.534\n",
            "Skew:                          -0.423   Prob(JB):                     1.78e-16\n",
            "Kurtosis:                       1.805   Cond. No.                         3.18\n",
            "==============================================================================\n",
            "\n",
            "Notes:\n",
            "[1] Standard Errors assume that the covariance matrix of the errors is correctly specified.\n"
          ]
        }
      ]
    },
    {
      "cell_type": "markdown",
      "source": [
        "- Low incentives caused 0.37 increase in learning one’s HIV status.\n",
        "- Does the treatment effect grow with incentive? Yes, the treatment effect grows from 0.37 with low incentive to 0.53 with high incentives"
      ],
      "metadata": {
        "id": "jpuxiX1sRQQW"
      }
    },
    {
      "cell_type": "markdown",
      "source": [
        "2.  Calculate a linear dose response function by regression `got` on `any` and `tinc`."
      ],
      "metadata": {
        "id": "G40NA7DZRW4G"
      }
    },
    {
      "cell_type": "code",
      "source": [
        "# Create OLS model object using any and tinc variables\n",
        "model = smf.ols('got ~ C(any) + tinc', data = hiv_complete)\n",
        "\n",
        "# Fit the model\n",
        "results = model.fit()\n",
        "\n",
        "# Print the results\n",
        "print(results.summary())"
      ],
      "metadata": {
        "id": "HbfwZKT1RYpm",
        "colab": {
          "base_uri": "https://localhost:8080/"
        },
        "outputId": "1a8c3a13-0336-4efd-bd40-128d9144becb"
      },
      "execution_count": 17,
      "outputs": [
        {
          "output_type": "stream",
          "name": "stdout",
          "text": [
            "                            OLS Regression Results                            \n",
            "==============================================================================\n",
            "Dep. Variable:                    got   R-squared:                       0.199\n",
            "Model:                            OLS   Adj. R-squared:                  0.198\n",
            "Method:                 Least Squares   F-statistic:                     163.6\n",
            "Date:                Fri, 18 Jul 2025   Prob (F-statistic):           3.41e-64\n",
            "Time:                        22:00:50   Log-Likelihood:                -662.23\n",
            "No. Observations:                1320   AIC:                             1330.\n",
            "Df Residuals:                    1317   BIC:                             1346.\n",
            "Df Model:                           2                                         \n",
            "Covariance Type:            nonrobust                                         \n",
            "=================================================================================\n",
            "                    coef    std err          t      P>|t|      [0.025      0.975]\n",
            "---------------------------------------------------------------------------------\n",
            "Intercept         0.3705      0.024     15.441      0.000       0.323       0.418\n",
            "C(any)[T.1.0]     0.3076      0.034      9.175      0.000       0.242       0.373\n",
            "tinc              0.1075      0.015      7.124      0.000       0.078       0.137\n",
            "==============================================================================\n",
            "Omnibus:                      112.297   Durbin-Watson:                   1.896\n",
            "Prob(Omnibus):                  0.000   Jarque-Bera (JB):              140.032\n",
            "Skew:                          -0.792   Prob(JB):                     3.91e-31\n",
            "Kurtosis:                       2.806   Cond. No.                         6.44\n",
            "==============================================================================\n",
            "\n",
            "Notes:\n",
            "[1] Standard Errors assume that the covariance matrix of the errors is correctly specified.\n"
          ]
        }
      ]
    },
    {
      "cell_type": "markdown",
      "source": [
        "From the coefficients we see that:\n",
        "- On average, in particular value of incentives, receiving incentives caused 0.3 increase in learning one’s HIV status\n",
        "- On average, additional 1 point in any value of incentives caused 0.11 increase in learning one’s HIV status."
      ],
      "metadata": {
        "id": "FCOHTkyuRZ39"
      }
    },
    {
      "cell_type": "markdown",
      "source": [
        "### Visualization"
      ],
      "metadata": {
        "id": "o_He7SMbRb7g"
      }
    },
    {
      "cell_type": "markdown",
      "source": [
        "- Here's the a simple graphic that displays mean for both the treatment and control groups.\n",
        "- Add `inc` variable first, indicating whether participant receive any incentives (treatment) or not (control)"
      ],
      "metadata": {
        "id": "6PmrzhMmRe0Y"
      }
    },
    {
      "cell_type": "code",
      "source": [
        "sns.barplot(data = hiv_complete, x = \"any\", y = \"got\")"
      ],
      "metadata": {
        "id": "pLBNIVXNRgH3",
        "colab": {
          "base_uri": "https://localhost:8080/",
          "height": 466
        },
        "outputId": "b4a7e500-a676-4621-9016-a4c425ab6cde"
      },
      "execution_count": 18,
      "outputs": [
        {
          "output_type": "execute_result",
          "data": {
            "text/plain": [
              "<Axes: xlabel='any', ylabel='got'>"
            ]
          },
          "metadata": {},
          "execution_count": 18
        },
        {
          "output_type": "display_data",
          "data": {
            "text/plain": [
              "<Figure size 640x480 with 1 Axes>"
            ],
            "image/png": "[encoded data removed]"
          },
          "metadata": {}
        }
      ]
    },
    {
      "cell_type": "markdown",
      "source": [
        "#### Follow Up Study\n",
        "- Thornton conducted a follow-up interview several months after providing cash incentives to respondents.\n",
        "- The objective was to assess the subsequent health behaviors of the participants and their condom purchase choices.\n",
        "- By leveraging the randomized assignment of incentives for learning HIV status, she was able to isolate the causal effect of - learning on condom purchase, serving as a proxy for engaging in risky sexual behavior."
      ],
      "metadata": {
        "id": "PcS3HZY8RiRH"
      }
    },
    {
      "cell_type": "code",
      "source": [
        "sns.barplot(data = hiv_complete[hiv_complete[\"hiv2004\"]==1], x = \"got\", y = \"usecondom04\")"
      ],
      "metadata": {
        "id": "OvRPuCbMRja2",
        "colab": {
          "base_uri": "https://localhost:8080/",
          "height": 466
        },
        "outputId": "cf812274-cbb3-4ee0-a8c1-461cf89d4a71"
      },
      "execution_count": 19,
      "outputs": [
        {
          "output_type": "execute_result",
          "data": {
            "text/plain": [
              "<Axes: xlabel='got', ylabel='usecondom04'>"
            ]
          },
          "metadata": {},
          "execution_count": 19
        },
        {
          "output_type": "display_data",
          "data": {
            "text/plain": [
              "<Figure size 640x480 with 1 Axes>"
            ],
            "image/png": "[encoded data removed]"
          },
          "metadata": {}
        }
      ]
    },
    {
      "cell_type": "code",
      "source": [
        "sns.barplot(data = hiv_complete[hiv_complete[\"hiv2004\"]==1], x = \"got\", y = \"bought\")"
      ],
      "metadata": {
        "id": "oGFfoHXxRlR2",
        "colab": {
          "base_uri": "https://localhost:8080/",
          "height": 466
        },
        "outputId": "f47b06ac-c63a-4c99-fa23-b89f99498575"
      },
      "execution_count": 20,
      "outputs": [
        {
          "output_type": "execute_result",
          "data": {
            "text/plain": [
              "<Axes: xlabel='got', ylabel='bought'>"
            ]
          },
          "metadata": {},
          "execution_count": 20
        },
        {
          "output_type": "display_data",
          "data": {
            "text/plain": [
              "<Figure size 640x480 with 1 Axes>"
            ],
            "image/png": "[encoded data removed]"
          },
          "metadata": {}
        }
      ]
    },
    {
      "cell_type": "markdown",
      "source": [
        "### Conclusion\n",
        "- Respondents who received any cash-value voucher were twice as likely to visit the VCT compared to those without compensation.\n",
        "- Even small incentives, resulted in positive behavior regarding seeking HIV test results.\n",
        "- Thornton demonstrated that even modest financial incentives could effectively encourage individuals to learn their HIV status, with important policy implications.\n",
        "\n",
        "### Insight\n",
        "- The findings suggested that outreach strategies like door-to-door testing, coupled with incentives, motivated people to learn their HIV status.\n",
        "- Nonetheless, being incentivized to learn one's HIV status did not necessarily lead HIV-positive individuals to reduce engagement in high-risk sexual behaviors, such as unprotected sex.\n",
        "- The study highlighted the importance of considering additional interventions and approaches beyond mere knowledge of HIV status to promote safer sexual practices."
      ],
      "metadata": {
        "id": "hlHXpy_gRoYt"
      }
    },
    {
      "cell_type": "markdown",
      "source": [
        "#  Wage on The Employment\n",
        "---"
      ],
      "metadata": {
        "id": "rdhRZmZDRp5e"
      }
    },
    {
      "cell_type": "markdown",
      "source": [
        "### Background"
      ],
      "metadata": {
        "id": "SQ_8QvncRthO"
      }
    },
    {
      "cell_type": "markdown",
      "source": [
        "- Many people’s common beliefs about the negative effects of the minimum wage.\n",
        "- In competitive labor markets, an increase in minimum wages may reduce employment. But in monopsony labor markets, minimum wages can actually increase employment.\n",
        "- The impact of minimum wages on employment is an empirical question influenced by local contextual factors.\n",
        "- Card and Krueger (1994) aimed to determine whether minimum wages were ultimately harmful or helpful in a specific local economy."
      ],
      "metadata": {
        "id": "GZZPtgVoRuqm"
      }
    },
    {
      "cell_type": "markdown",
      "source": [
        "### The Study\n",
        "- Start with a simple thought experiment to explore the effects of minimum wages on employment.\n",
        "  - Imagine having a billion dollars to run a randomized experiment.\n",
        "  - Going across hundreds of local labor markets in the United States.\n",
        "  - Flip a coin to determine the treatment: heads for raising the minimum wage, tails for maintaining the status quo.\n",
        "- This thought experiment does clarify both the research design and the causal question, however that scenario is impossible at that time\n",
        "- Since a randomized experiment was not possible, Card and Krueger (1994) used a next-best solution.\n",
        "- Do comparison of two neighboring states: New Jersey and Pennsylvania. **They assumed both state have similar trend of employment, we call it as parallel trends assumption**\n",
        "  - New Jersey planned to increase its minimum wage from `$4.25` to `$5.05` in November 1992.\n",
        "  - Pennsylvania's minimum wage remained at $4.25.\n",
        "- By comparing the states before and after the minimum-wage increase they evaluated its effect. The method used in their study is called as Difference in Differences"
      ],
      "metadata": {
        "id": "aPH5nM6TRvv3"
      }
    },
    {
      "cell_type": "markdown",
      "source": [
        "### Objective"
      ],
      "metadata": {
        "id": "t7_Bug5JRwyw"
      }
    },
    {
      "cell_type": "markdown",
      "source": [
        "### Load Data\n",
        "\n",
        "- The dataset is adapted from the dataset in Card and Krueger (1994)\n",
        "- A survey of fast-food restaurants was conducted in both states, New Jersey (0) and Pennsylvania (1) were collected in February 1992 (before minimum wage raised in New Jersey) and in November 1992 (after minimum wage raised in New Jersey).\n",
        "- 384 restaurants in total after removing null values"
      ],
      "metadata": {
        "id": "eFOmeiriRyev"
      }
    },
    {
      "cell_type": "code",
      "source": [
        "employment = pd.read_csv(\"employment.csv\")\n",
        "employment"
      ],
      "metadata": {
        "id": "PODBP5CQRzjm",
        "colab": {
          "base_uri": "https://localhost:8080/",
          "height": 424
        },
        "outputId": "b5ed5f81-d538-4d5e-bf89-d847485e4cb1"
      },
      "execution_count": 22,
      "outputs": [
        {
          "output_type": "execute_result",
          "data": {
            "text/plain": [
              "     state  total_emp_feb  total_emp_nov\n",
              "0        0          40.50          24.00\n",
              "1        0          13.75          11.50\n",
              "2        0           8.50          10.50\n",
              "3        0          34.00          20.00\n",
              "4        0          24.00          35.50\n",
              "..     ...            ...            ...\n",
              "379      1           9.00          23.75\n",
              "380      1           9.75          17.50\n",
              "381      1          24.50          20.50\n",
              "382      1          14.00          20.50\n",
              "383      1          19.50          25.00\n",
              "\n",
              "[384 rows x 3 columns]"
            ],
            "text/html": [
              "\n",
              "  <div id=\"df-7adbf4c4-e0d8-4617-902a-3337d8d3bf18\" class=\"colab-df-container\">\n",
              "    <div>\n",
              "<style scoped>\n",
              "    .dataframe tbody tr th:only-of-type {\n",
              "        vertical-align: middle;\n",
              "    }\n",
              "\n",
              "    .dataframe tbody tr th {\n",
              "        vertical-align: top;\n",
              "    }\n",
              "\n",
              "    .dataframe thead th {\n",
              "        text-align: right;\n",
              "    }\n",
              "</style>\n",
              "<table border=\"1\" class=\"dataframe\">\n",
              "  <thead>\n",
              "    <tr style=\"text-align: right;\">\n",
              "      <th></th>\n",
              "      <th>state</th>\n",
              "      <th>total_emp_feb</th>\n",
              "      <th>total_emp_nov</th>\n",
              "    </tr>\n",
              "  </thead>\n",
              "  <tbody>\n",
              "    <tr>\n",
              "      <th>0</th>\n",
              "      <td>0</td>\n",
              "      <td>40.50</td>\n",
              "      <td>24.00</td>\n",
              "    </tr>\n",
              "    <tr>\n",
              "      <th>1</th>\n",
              "      <td>0</td>\n",
              "      <td>13.75</td>\n",
              "      <td>11.50</td>\n",
              "    </tr>\n",
              "    <tr>\n",
              "      <th>2</th>\n",
              "      <td>0</td>\n",
              "      <td>8.50</td>\n",
              "      <td>10.50</td>\n",
              "    </tr>\n",
              "    <tr>\n",
              "      <th>3</th>\n",
              "      <td>0</td>\n",
              "      <td>34.00</td>\n",
              "      <td>20.00</td>\n",
              "    </tr>\n",
              "    <tr>\n",
              "      <th>4</th>\n",
              "      <td>0</td>\n",
              "      <td>24.00</td>\n",
              "      <td>35.50</td>\n",
              "    </tr>\n",
              "    <tr>\n",
              "      <th>...</th>\n",
              "      <td>...</td>\n",
              "      <td>...</td>\n",
              "      <td>...</td>\n",
              "    </tr>\n",
              "    <tr>\n",
              "      <th>379</th>\n",
              "      <td>1</td>\n",
              "      <td>9.00</td>\n",
              "      <td>23.75</td>\n",
              "    </tr>\n",
              "    <tr>\n",
              "      <th>380</th>\n",
              "      <td>1</td>\n",
              "      <td>9.75</td>\n",
              "      <td>17.50</td>\n",
              "    </tr>\n",
              "    <tr>\n",
              "      <th>381</th>\n",
              "      <td>1</td>\n",
              "      <td>24.50</td>\n",
              "      <td>20.50</td>\n",
              "    </tr>\n",
              "    <tr>\n",
              "      <th>382</th>\n",
              "      <td>1</td>\n",
              "      <td>14.00</td>\n",
              "      <td>20.50</td>\n",
              "    </tr>\n",
              "    <tr>\n",
              "      <th>383</th>\n",
              "      <td>1</td>\n",
              "      <td>19.50</td>\n",
              "      <td>25.00</td>\n",
              "    </tr>\n",
              "  </tbody>\n",
              "</table>\n",
              "<p>384 rows × 3 columns</p>\n",
              "</div>\n",
              "    <div class=\"colab-df-buttons\">\n",
              "\n",
              "  <div class=\"colab-df-container\">\n",
              "    <button class=\"colab-df-convert\" onclick=\"convertToInteractive('df-7adbf4c4-e0d8-4617-902a-3337d8d3bf18')\"\n",
              "            title=\"Convert this dataframe to an interactive table.\"\n",
              "            style=\"display:none;\">\n",
              "\n",
              "  <svg xmlns=\"http://www.w3.org/2000/svg\" height=\"24px\" viewBox=\"0 -960 960 960\">\n",
              "    <path d=\"M120-120v-720h720v720H120Zm60-500h600v-160H180v160Zm220 220h160v-160H400v160Zm0 220h160v-160H400v160ZM180-400h160v-160H180v160Zm440 0h160v-160H620v160ZM180-180h160v-160H180v160Zm440 0h160v-160H620v160Z\"/>\n",
              "  </svg>\n",
              "    </button>\n",
              "\n",
              "  <style>\n",
              "    .colab-df-container {\n",
              "      display:flex;\n",
              "      gap: 12px;\n",
              "    }\n",
              "\n",
              "    .colab-df-convert {\n",
              "      background-color: #E8F0FE;\n",
              "      border: none;\n",
              "      border-radius: 50%;\n",
              "      cursor: pointer;\n",
              "      display: none;\n",
              "      fill: #1967D2;\n",
              "      height: 32px;\n",
              "      padding: 0 0 0 0;\n",
              "      width: 32px;\n",
              "    }\n",
              "\n",
              "    .colab-df-convert:hover {\n",
              "      background-color: #E2EBFA;\n",
              "      box-shadow: 0px 1px 2px rgba(60, 64, 67, 0.3), 0px 1px 3px 1px rgba(60, 64, 67, 0.15);\n",
              "      fill: #174EA6;\n",
              "    }\n",
              "\n",
              "    .colab-df-buttons div {\n",
              "      margin-bottom: 4px;\n",
              "    }\n",
              "\n",
              "    [theme=dark] .colab-df-convert {\n",
              "      background-color: #3B4455;\n",
              "      fill: #D2E3FC;\n",
              "    }\n",
              "\n",
              "    [theme=dark] .colab-df-convert:hover {\n",
              "      background-color: #434B5C;\n",
              "      box-shadow: 0px 1px 3px 1px rgba(0, 0, 0, 0.15);\n",
              "      filter: drop-shadow(0px 1px 2px rgba(0, 0, 0, 0.3));\n",
              "      fill: #FFFFFF;\n",
              "    }\n",
              "  </style>\n",
              "\n",
              "    <script>\n",
              "      const buttonEl =\n",
              "        document.querySelector('#df-7adbf4c4-e0d8-4617-902a-3337d8d3bf18 button.colab-df-convert');\n",
              "      buttonEl.style.display =\n",
              "        google.colab.kernel.accessAllowed ? 'block' : 'none';\n",
              "\n",
              "      async function convertToInteractive(key) {\n",
              "        const element = document.querySelector('#df-7adbf4c4-e0d8-4617-902a-3337d8d3bf18');\n",
              "        const dataTable =\n",
              "          await google.colab.kernel.invokeFunction('convertToInteractive',\n",
              "                                                    [key], {});\n",
              "        if (!dataTable) return;\n",
              "\n",
              "        const docLinkHtml = 'Like what you see? Visit the ' +\n",
              "          '<a target=\"_blank\" href=https://colab.research.google.com/notebooks/data_table.ipynb>data table notebook</a>'\n",
              "          + ' to learn more about interactive tables.';\n",
              "        element.innerHTML = '';\n",
              "        dataTable['output_type'] = 'display_data';\n",
              "        await google.colab.output.renderOutput(dataTable, element);\n",
              "        const docLink = document.createElement('div');\n",
              "        docLink.innerHTML = docLinkHtml;\n",
              "        element.appendChild(docLink);\n",
              "      }\n",
              "    </script>\n",
              "  </div>\n",
              "\n",
              "\n",
              "    <div id=\"df-47a36be7-59d7-48f1-9f77-5cdf68099151\">\n",
              "      <button class=\"colab-df-quickchart\" onclick=\"quickchart('df-47a36be7-59d7-48f1-9f77-5cdf68099151')\"\n",
              "                title=\"Suggest charts\"\n",
              "                style=\"display:none;\">\n",
              "\n",
              "<svg xmlns=\"http://www.w3.org/2000/svg\" height=\"24px\"viewBox=\"0 0 24 24\"\n",
              "     width=\"24px\">\n",
              "    <g>\n",
              "        <path d=\"M19 3H5c-1.1 0-2 .9-2 2v14c0 1.1.9 2 2 2h14c1.1 0 2-.9 2-2V5c0-1.1-.9-2-2-2zM9 17H7v-7h2v7zm4 0h-2V7h2v10zm4 0h-2v-4h2v4z\"/>\n",
              "    </g>\n",
              "</svg>\n",
              "      </button>\n",
              "\n",
              "<style>\n",
              "  .colab-df-quickchart {\n",
              "      --bg-color: #E8F0FE;\n",
              "      --fill-color: #1967D2;\n",
              "      --hover-bg-color: #E2EBFA;\n",
              "      --hover-fill-color: #174EA6;\n",
              "      --disabled-fill-color: #AAA;\n",
              "      --disabled-bg-color: #DDD;\n",
              "  }\n",
              "\n",
              "  [theme=dark] .colab-df-quickchart {\n",
              "      --bg-color: #3B4455;\n",
              "      --fill-color: #D2E3FC;\n",
              "      --hover-bg-color: #434B5C;\n",
              "      --hover-fill-color: #FFFFFF;\n",
              "      --disabled-bg-color: #3B4455;\n",
              "      --disabled-fill-color: #666;\n",
              "  }\n",
              "\n",
              "  .colab-df-quickchart {\n",
              "    background-color: var(--bg-color);\n",
              "    border: none;\n",
              "    border-radius: 50%;\n",
              "    cursor: pointer;\n",
              "    display: none;\n",
              "    fill: var(--fill-color);\n",
              "    height: 32px;\n",
              "    padding: 0;\n",
              "    width: 32px;\n",
              "  }\n",
              "\n",
              "  .colab-df-quickchart:hover {\n",
              "    background-color: var(--hover-bg-color);\n",
              "    box-shadow: 0 1px 2px rgba(60, 64, 67, 0.3), 0 1px 3px 1px rgba(60, 64, 67, 0.15);\n",
              "    fill: var(--button-hover-fill-color);\n",
              "  }\n",
              "\n",
              "  .colab-df-quickchart-complete:disabled,\n",
              "  .colab-df-quickchart-complete:disabled:hover {\n",
              "    background-color: var(--disabled-bg-color);\n",
              "    fill: var(--disabled-fill-color);\n",
              "    box-shadow: none;\n",
              "  }\n",
              "\n",
              "  .colab-df-spinner {\n",
              "    border: 2px solid var(--fill-color);\n",
              "    border-color: transparent;\n",
              "    border-bottom-color: var(--fill-color);\n",
              "    animation:\n",
              "      spin 1s steps(1) infinite;\n",
              "  }\n",
              "\n",
              "  @keyframes spin {\n",
              "    0% {\n",
              "      border-color: transparent;\n",
              "      border-bottom-color: var(--fill-color);\n",
              "      border-left-color: var(--fill-color);\n",
              "    }\n",
              "    20% {\n",
              "      border-color: transparent;\n",
              "      border-left-color: var(--fill-color);\n",
              "      border-top-color: var(--fill-color);\n",
              "    }\n",
              "    30% {\n",
              "      border-color: transparent;\n",
              "      border-left-color: var(--fill-color);\n",
              "      border-top-color: var(--fill-color);\n",
              "      border-right-color: var(--fill-color);\n",
              "    }\n",
              "    40% {\n",
              "      border-color: transparent;\n",
              "      border-right-color: var(--fill-color);\n",
              "      border-top-color: var(--fill-color);\n",
              "    }\n",
              "    60% {\n",
              "      border-color: transparent;\n",
              "      border-right-color: var(--fill-color);\n",
              "    }\n",
              "    80% {\n",
              "      border-color: transparent;\n",
              "      border-right-color: var(--fill-color);\n",
              "      border-bottom-color: var(--fill-color);\n",
              "    }\n",
              "    90% {\n",
              "      border-color: transparent;\n",
              "      border-bottom-color: var(--fill-color);\n",
              "    }\n",
              "  }\n",
              "</style>\n",
              "\n",
              "      <script>\n",
              "        async function quickchart(key) {\n",
              "          const quickchartButtonEl =\n",
              "            document.querySelector('#' + key + ' button');\n",
              "          quickchartButtonEl.disabled = true;  // To prevent multiple clicks.\n",
              "          quickchartButtonEl.classList.add('colab-df-spinner');\n",
              "          try {\n",
              "            const charts = await google.colab.kernel.invokeFunction(\n",
              "                'suggestCharts', [key], {});\n",
              "          } catch (error) {\n",
              "            console.error('Error during call to suggestCharts:', error);\n",
              "          }\n",
              "          quickchartButtonEl.classList.remove('colab-df-spinner');\n",
              "          quickchartButtonEl.classList.add('colab-df-quickchart-complete');\n",
              "        }\n",
              "        (() => {\n",
              "          let quickchartButtonEl =\n",
              "            document.querySelector('#df-47a36be7-59d7-48f1-9f77-5cdf68099151 button');\n",
              "          quickchartButtonEl.style.display =\n",
              "            google.colab.kernel.accessAllowed ? 'block' : 'none';\n",
              "        })();\n",
              "      </script>\n",
              "    </div>\n",
              "\n",
              "  <div id=\"id_6ffc4cb5-1444-4467-83cc-e30b15fd88d6\">\n",
              "    <style>\n",
              "      .colab-df-generate {\n",
              "        background-color: #E8F0FE;\n",
              "        border: none;\n",
              "        border-radius: 50%;\n",
              "        cursor: pointer;\n",
              "        display: none;\n",
              "        fill: #1967D2;\n",
              "        height: 32px;\n",
              "        padding: 0 0 0 0;\n",
              "        width: 32px;\n",
              "      }\n",
              "\n",
              "      .colab-df-generate:hover {\n",
              "        background-color: #E2EBFA;\n",
              "        box-shadow: 0px 1px 2px rgba(60, 64, 67, 0.3), 0px 1px 3px 1px rgba(60, 64, 67, 0.15);\n",
              "        fill: #174EA6;\n",
              "      }\n",
              "\n",
              "      [theme=dark] .colab-df-generate {\n",
              "        background-color: #3B4455;\n",
              "        fill: #D2E3FC;\n",
              "      }\n",
              "\n",
              "      [theme=dark] .colab-df-generate:hover {\n",
              "        background-color: #434B5C;\n",
              "        box-shadow: 0px 1px 3px 1px rgba(0, 0, 0, 0.15);\n",
              "        filter: drop-shadow(0px 1px 2px rgba(0, 0, 0, 0.3));\n",
              "        fill: #FFFFFF;\n",
              "      }\n",
              "    </style>\n",
              "    <button class=\"colab-df-generate\" onclick=\"generateWithVariable('employment')\"\n",
              "            title=\"Generate code using this dataframe.\"\n",
              "            style=\"display:none;\">\n",
              "\n",
              "  <svg xmlns=\"http://www.w3.org/2000/svg\" height=\"24px\"viewBox=\"0 0 24 24\"\n",
              "       width=\"24px\">\n",
              "    <path d=\"M7,19H8.4L18.45,9,17,7.55,7,17.6ZM5,21V16.75L18.45,3.32a2,2,0,0,1,2.83,0l1.4,1.43a1.91,1.91,0,0,1,.58,1.4,1.91,1.91,0,0,1-.58,1.4L9.25,21ZM18.45,9,17,7.55Zm-12,3A5.31,5.31,0,0,0,4.9,8.1,5.31,5.31,0,0,0,1,6.5,5.31,5.31,0,0,0,4.9,4.9,5.31,5.31,0,0,0,6.5,1,5.31,5.31,0,0,0,8.1,4.9,5.31,5.31,0,0,0,12,6.5,5.46,5.46,0,0,0,6.5,12Z\"/>\n",
              "  </svg>\n",
              "    </button>\n",
              "    <script>\n",
              "      (() => {\n",
              "      const buttonEl =\n",
              "        document.querySelector('#id_6ffc4cb5-1444-4467-83cc-e30b15fd88d6 button.colab-df-generate');\n",
              "      buttonEl.style.display =\n",
              "        google.colab.kernel.accessAllowed ? 'block' : 'none';\n",
              "\n",
              "      buttonEl.onclick = () => {\n",
              "        google.colab.notebook.generateWithVariable('employment');\n",
              "      }\n",
              "      })();\n",
              "    </script>\n",
              "  </div>\n",
              "\n",
              "    </div>\n",
              "  </div>\n"
            ],
            "application/vnd.google.colaboratory.intrinsic+json": {
              "type": "dataframe",
              "variable_name": "employment",
              "summary": "{\n  \"name\": \"employment\",\n  \"rows\": 384,\n  \"fields\": [\n    {\n      \"column\": \"state\",\n      \"properties\": {\n        \"dtype\": \"number\",\n        \"std\": 0,\n        \"min\": 0,\n        \"max\": 1,\n        \"num_unique_values\": 2,\n        \"samples\": [\n          1,\n          0\n        ],\n        \"semantic_type\": \"\",\n        \"description\": \"\"\n      }\n    },\n    {\n      \"column\": \"total_emp_feb\",\n      \"properties\": {\n        \"dtype\": \"number\",\n        \"std\": 9.874064792468447,\n        \"min\": 5.0,\n        \"max\": 85.0,\n        \"num_unique_values\": 101,\n        \"samples\": [\n          32.25,\n          17.0\n        ],\n        \"semantic_type\": \"\",\n        \"description\": \"\"\n      }\n    },\n    {\n      \"column\": \"total_emp_nov\",\n      \"properties\": {\n        \"dtype\": \"number\",\n        \"std\": 9.183605390081098,\n        \"min\": 0.0,\n        \"max\": 60.5,\n        \"num_unique_values\": 90,\n        \"samples\": [\n          26.75,\n          16.0\n        ],\n        \"semantic_type\": \"\",\n        \"description\": \"\"\n      }\n    }\n  ]\n}"
            }
          },
          "metadata": {},
          "execution_count": 22
        }
      ]
    },
    {
      "cell_type": "markdown",
      "source": [
        "### Difference in Differences"
      ],
      "metadata": {
        "id": "rNvaoosVR2Ll"
      }
    },
    {
      "cell_type": "markdown",
      "source": [
        "#### Using Simple Mean Calculation"
      ],
      "metadata": {
        "id": "PHNIEOpeR39W"
      }
    },
    {
      "cell_type": "code",
      "source": [
        "# Group by state, calculate mean in February (before) and November (after)\n",
        "emp_per_state = employment.groupby('state').mean()\n",
        "emp_per_state"
      ],
      "metadata": {
        "id": "NJU_EMbqR5Tp",
        "colab": {
          "base_uri": "https://localhost:8080/",
          "height": 144
        },
        "outputId": "fd14e58d-e005-47f8-986a-f2a589d10bc3"
      },
      "execution_count": 23,
      "outputs": [
        {
          "output_type": "execute_result",
          "data": {
            "text/plain": [
              "       total_emp_feb  total_emp_nov\n",
              "state                              \n",
              "0          23.380000      21.096667\n",
              "1          20.430583      20.897249"
            ],
            "text/html": [
              "\n",
              "  <div id=\"df-de5110fd-06e3-44c1-a1e5-ca2d21f081d9\" class=\"colab-df-container\">\n",
              "    <div>\n",
              "<style scoped>\n",
              "    .dataframe tbody tr th:only-of-type {\n",
              "        vertical-align: middle;\n",
              "    }\n",
              "\n",
              "    .dataframe tbody tr th {\n",
              "        vertical-align: top;\n",
              "    }\n",
              "\n",
              "    .dataframe thead th {\n",
              "        text-align: right;\n",
              "    }\n",
              "</style>\n",
              "<table border=\"1\" class=\"dataframe\">\n",
              "  <thead>\n",
              "    <tr style=\"text-align: right;\">\n",
              "      <th></th>\n",
              "      <th>total_emp_feb</th>\n",
              "      <th>total_emp_nov</th>\n",
              "    </tr>\n",
              "    <tr>\n",
              "      <th>state</th>\n",
              "      <th></th>\n",
              "      <th></th>\n",
              "    </tr>\n",
              "  </thead>\n",
              "  <tbody>\n",
              "    <tr>\n",
              "      <th>0</th>\n",
              "      <td>23.380000</td>\n",
              "      <td>21.096667</td>\n",
              "    </tr>\n",
              "    <tr>\n",
              "      <th>1</th>\n",
              "      <td>20.430583</td>\n",
              "      <td>20.897249</td>\n",
              "    </tr>\n",
              "  </tbody>\n",
              "</table>\n",
              "</div>\n",
              "    <div class=\"colab-df-buttons\">\n",
              "\n",
              "  <div class=\"colab-df-container\">\n",
              "    <button class=\"colab-df-convert\" onclick=\"convertToInteractive('df-de5110fd-06e3-44c1-a1e5-ca2d21f081d9')\"\n",
              "            title=\"Convert this dataframe to an interactive table.\"\n",
              "            style=\"display:none;\">\n",
              "\n",
              "  <svg xmlns=\"http://www.w3.org/2000/svg\" height=\"24px\" viewBox=\"0 -960 960 960\">\n",
              "    <path d=\"M120-120v-720h720v720H120Zm60-500h600v-160H180v160Zm220 220h160v-160H400v160Zm0 220h160v-160H400v160ZM180-400h160v-160H180v160Zm440 0h160v-160H620v160ZM180-180h160v-160H180v160Zm440 0h160v-160H620v160Z\"/>\n",
              "  </svg>\n",
              "    </button>\n",
              "\n",
              "  <style>\n",
              "    .colab-df-container {\n",
              "      display:flex;\n",
              "      gap: 12px;\n",
              "    }\n",
              "\n",
              "    .colab-df-convert {\n",
              "      background-color: #E8F0FE;\n",
              "      border: none;\n",
              "      border-radius: 50%;\n",
              "      cursor: pointer;\n",
              "      display: none;\n",
              "      fill: #1967D2;\n",
              "      height: 32px;\n",
              "      padding: 0 0 0 0;\n",
              "      width: 32px;\n",
              "    }\n",
              "\n",
              "    .colab-df-convert:hover {\n",
              "      background-color: #E2EBFA;\n",
              "      box-shadow: 0px 1px 2px rgba(60, 64, 67, 0.3), 0px 1px 3px 1px rgba(60, 64, 67, 0.15);\n",
              "      fill: #174EA6;\n",
              "    }\n",
              "\n",
              "    .colab-df-buttons div {\n",
              "      margin-bottom: 4px;\n",
              "    }\n",
              "\n",
              "    [theme=dark] .colab-df-convert {\n",
              "      background-color: #3B4455;\n",
              "      fill: #D2E3FC;\n",
              "    }\n",
              "\n",
              "    [theme=dark] .colab-df-convert:hover {\n",
              "      background-color: #434B5C;\n",
              "      box-shadow: 0px 1px 3px 1px rgba(0, 0, 0, 0.15);\n",
              "      filter: drop-shadow(0px 1px 2px rgba(0, 0, 0, 0.3));\n",
              "      fill: #FFFFFF;\n",
              "    }\n",
              "  </style>\n",
              "\n",
              "    <script>\n",
              "      const buttonEl =\n",
              "        document.querySelector('#df-de5110fd-06e3-44c1-a1e5-ca2d21f081d9 button.colab-df-convert');\n",
              "      buttonEl.style.display =\n",
              "        google.colab.kernel.accessAllowed ? 'block' : 'none';\n",
              "\n",
              "      async function convertToInteractive(key) {\n",
              "        const element = document.querySelector('#df-de5110fd-06e3-44c1-a1e5-ca2d21f081d9');\n",
              "        const dataTable =\n",
              "          await google.colab.kernel.invokeFunction('convertToInteractive',\n",
              "                                                    [key], {});\n",
              "        if (!dataTable) return;\n",
              "\n",
              "        const docLinkHtml = 'Like what you see? Visit the ' +\n",
              "          '<a target=\"_blank\" href=https://colab.research.google.com/notebooks/data_table.ipynb>data table notebook</a>'\n",
              "          + ' to learn more about interactive tables.';\n",
              "        element.innerHTML = '';\n",
              "        dataTable['output_type'] = 'display_data';\n",
              "        await google.colab.output.renderOutput(dataTable, element);\n",
              "        const docLink = document.createElement('div');\n",
              "        docLink.innerHTML = docLinkHtml;\n",
              "        element.appendChild(docLink);\n",
              "      }\n",
              "    </script>\n",
              "  </div>\n",
              "\n",
              "\n",
              "    <div id=\"df-5fca5ccc-07fc-402b-b6ae-926003d92497\">\n",
              "      <button class=\"colab-df-quickchart\" onclick=\"quickchart('df-5fca5ccc-07fc-402b-b6ae-926003d92497')\"\n",
              "                title=\"Suggest charts\"\n",
              "                style=\"display:none;\">\n",
              "\n",
              "<svg xmlns=\"http://www.w3.org/2000/svg\" height=\"24px\"viewBox=\"0 0 24 24\"\n",
              "     width=\"24px\">\n",
              "    <g>\n",
              "        <path d=\"M19 3H5c-1.1 0-2 .9-2 2v14c0 1.1.9 2 2 2h14c1.1 0 2-.9 2-2V5c0-1.1-.9-2-2-2zM9 17H7v-7h2v7zm4 0h-2V7h2v10zm4 0h-2v-4h2v4z\"/>\n",
              "    </g>\n",
              "</svg>\n",
              "      </button>\n",
              "\n",
              "<style>\n",
              "  .colab-df-quickchart {\n",
              "      --bg-color: #E8F0FE;\n",
              "      --fill-color: #1967D2;\n",
              "      --hover-bg-color: #E2EBFA;\n",
              "      --hover-fill-color: #174EA6;\n",
              "      --disabled-fill-color: #AAA;\n",
              "      --disabled-bg-color: #DDD;\n",
              "  }\n",
              "\n",
              "  [theme=dark] .colab-df-quickchart {\n",
              "      --bg-color: #3B4455;\n",
              "      --fill-color: #D2E3FC;\n",
              "      --hover-bg-color: #434B5C;\n",
              "      --hover-fill-color: #FFFFFF;\n",
              "      --disabled-bg-color: #3B4455;\n",
              "      --disabled-fill-color: #666;\n",
              "  }\n",
              "\n",
              "  .colab-df-quickchart {\n",
              "    background-color: var(--bg-color);\n",
              "    border: none;\n",
              "    border-radius: 50%;\n",
              "    cursor: pointer;\n",
              "    display: none;\n",
              "    fill: var(--fill-color);\n",
              "    height: 32px;\n",
              "    padding: 0;\n",
              "    width: 32px;\n",
              "  }\n",
              "\n",
              "  .colab-df-quickchart:hover {\n",
              "    background-color: var(--hover-bg-color);\n",
              "    box-shadow: 0 1px 2px rgba(60, 64, 67, 0.3), 0 1px 3px 1px rgba(60, 64, 67, 0.15);\n",
              "    fill: var(--button-hover-fill-color);\n",
              "  }\n",
              "\n",
              "  .colab-df-quickchart-complete:disabled,\n",
              "  .colab-df-quickchart-complete:disabled:hover {\n",
              "    background-color: var(--disabled-bg-color);\n",
              "    fill: var(--disabled-fill-color);\n",
              "    box-shadow: none;\n",
              "  }\n",
              "\n",
              "  .colab-df-spinner {\n",
              "    border: 2px solid var(--fill-color);\n",
              "    border-color: transparent;\n",
              "    border-bottom-color: var(--fill-color);\n",
              "    animation:\n",
              "      spin 1s steps(1) infinite;\n",
              "  }\n",
              "\n",
              "  @keyframes spin {\n",
              "    0% {\n",
              "      border-color: transparent;\n",
              "      border-bottom-color: var(--fill-color);\n",
              "      border-left-color: var(--fill-color);\n",
              "    }\n",
              "    20% {\n",
              "      border-color: transparent;\n",
              "      border-left-color: var(--fill-color);\n",
              "      border-top-color: var(--fill-color);\n",
              "    }\n",
              "    30% {\n",
              "      border-color: transparent;\n",
              "      border-left-color: var(--fill-color);\n",
              "      border-top-color: var(--fill-color);\n",
              "      border-right-color: var(--fill-color);\n",
              "    }\n",
              "    40% {\n",
              "      border-color: transparent;\n",
              "      border-right-color: var(--fill-color);\n",
              "      border-top-color: var(--fill-color);\n",
              "    }\n",
              "    60% {\n",
              "      border-color: transparent;\n",
              "      border-right-color: var(--fill-color);\n",
              "    }\n",
              "    80% {\n",
              "      border-color: transparent;\n",
              "      border-right-color: var(--fill-color);\n",
              "      border-bottom-color: var(--fill-color);\n",
              "    }\n",
              "    90% {\n",
              "      border-color: transparent;\n",
              "      border-bottom-color: var(--fill-color);\n",
              "    }\n",
              "  }\n",
              "</style>\n",
              "\n",
              "      <script>\n",
              "        async function quickchart(key) {\n",
              "          const quickchartButtonEl =\n",
              "            document.querySelector('#' + key + ' button');\n",
              "          quickchartButtonEl.disabled = true;  // To prevent multiple clicks.\n",
              "          quickchartButtonEl.classList.add('colab-df-spinner');\n",
              "          try {\n",
              "            const charts = await google.colab.kernel.invokeFunction(\n",
              "                'suggestCharts', [key], {});\n",
              "          } catch (error) {\n",
              "            console.error('Error during call to suggestCharts:', error);\n",
              "          }\n",
              "          quickchartButtonEl.classList.remove('colab-df-spinner');\n",
              "          quickchartButtonEl.classList.add('colab-df-quickchart-complete');\n",
              "        }\n",
              "        (() => {\n",
              "          let quickchartButtonEl =\n",
              "            document.querySelector('#df-5fca5ccc-07fc-402b-b6ae-926003d92497 button');\n",
              "          quickchartButtonEl.style.display =\n",
              "            google.colab.kernel.accessAllowed ? 'block' : 'none';\n",
              "        })();\n",
              "      </script>\n",
              "    </div>\n",
              "\n",
              "  <div id=\"id_a91b1d91-ccc0-4d30-8508-01949837bdec\">\n",
              "    <style>\n",
              "      .colab-df-generate {\n",
              "        background-color: #E8F0FE;\n",
              "        border: none;\n",
              "        border-radius: 50%;\n",
              "        cursor: pointer;\n",
              "        display: none;\n",
              "        fill: #1967D2;\n",
              "        height: 32px;\n",
              "        padding: 0 0 0 0;\n",
              "        width: 32px;\n",
              "      }\n",
              "\n",
              "      .colab-df-generate:hover {\n",
              "        background-color: #E2EBFA;\n",
              "        box-shadow: 0px 1px 2px rgba(60, 64, 67, 0.3), 0px 1px 3px 1px rgba(60, 64, 67, 0.15);\n",
              "        fill: #174EA6;\n",
              "      }\n",
              "\n",
              "      [theme=dark] .colab-df-generate {\n",
              "        background-color: #3B4455;\n",
              "        fill: #D2E3FC;\n",
              "      }\n",
              "\n",
              "      [theme=dark] .colab-df-generate:hover {\n",
              "        background-color: #434B5C;\n",
              "        box-shadow: 0px 1px 3px 1px rgba(0, 0, 0, 0.15);\n",
              "        filter: drop-shadow(0px 1px 2px rgba(0, 0, 0, 0.3));\n",
              "        fill: #FFFFFF;\n",
              "      }\n",
              "    </style>\n",
              "    <button class=\"colab-df-generate\" onclick=\"generateWithVariable('emp_per_state')\"\n",
              "            title=\"Generate code using this dataframe.\"\n",
              "            style=\"display:none;\">\n",
              "\n",
              "  <svg xmlns=\"http://www.w3.org/2000/svg\" height=\"24px\"viewBox=\"0 0 24 24\"\n",
              "       width=\"24px\">\n",
              "    <path d=\"M7,19H8.4L18.45,9,17,7.55,7,17.6ZM5,21V16.75L18.45,3.32a2,2,0,0,1,2.83,0l1.4,1.43a1.91,1.91,0,0,1,.58,1.4,1.91,1.91,0,0,1-.58,1.4L9.25,21ZM18.45,9,17,7.55Zm-12,3A5.31,5.31,0,0,0,4.9,8.1,5.31,5.31,0,0,0,1,6.5,5.31,5.31,0,0,0,4.9,4.9,5.31,5.31,0,0,0,6.5,1,5.31,5.31,0,0,0,8.1,4.9,5.31,5.31,0,0,0,12,6.5,5.46,5.46,0,0,0,6.5,12Z\"/>\n",
              "  </svg>\n",
              "    </button>\n",
              "    <script>\n",
              "      (() => {\n",
              "      const buttonEl =\n",
              "        document.querySelector('#id_a91b1d91-ccc0-4d30-8508-01949837bdec button.colab-df-generate');\n",
              "      buttonEl.style.display =\n",
              "        google.colab.kernel.accessAllowed ? 'block' : 'none';\n",
              "\n",
              "      buttonEl.onclick = () => {\n",
              "        google.colab.notebook.generateWithVariable('emp_per_state');\n",
              "      }\n",
              "      })();\n",
              "    </script>\n",
              "  </div>\n",
              "\n",
              "    </div>\n",
              "  </div>\n"
            ],
            "application/vnd.google.colaboratory.intrinsic+json": {
              "type": "dataframe",
              "variable_name": "emp_per_state",
              "summary": "{\n  \"name\": \"emp_per_state\",\n  \"rows\": 2,\n  \"fields\": [\n    {\n      \"column\": \"state\",\n      \"properties\": {\n        \"dtype\": \"number\",\n        \"std\": 0,\n        \"min\": 0,\n        \"max\": 1,\n        \"num_unique_values\": 2,\n        \"samples\": [\n          1,\n          0\n        ],\n        \"semantic_type\": \"\",\n        \"description\": \"\"\n      }\n    },\n    {\n      \"column\": \"total_emp_feb\",\n      \"properties\": {\n        \"dtype\": \"number\",\n        \"std\": 2.0855530976374874,\n        \"min\": 20.430582524271845,\n        \"max\": 23.38,\n        \"num_unique_values\": 2,\n        \"samples\": [\n          20.430582524271845,\n          23.38\n        ],\n        \"semantic_type\": \"\",\n        \"description\": \"\"\n      }\n    },\n    {\n      \"column\": \"total_emp_nov\",\n      \"properties\": {\n        \"dtype\": \"number\",\n        \"std\": 0.14100944937448406,\n        \"min\": 20.89724919093851,\n        \"max\": 21.096666666666668,\n        \"num_unique_values\": 2,\n        \"samples\": [\n          20.89724919093851,\n          21.096666666666668\n        ],\n        \"semantic_type\": \"\",\n        \"description\": \"\"\n      }\n    }\n  ]\n}"
            }
          },
          "metadata": {},
          "execution_count": 23
        }
      ]
    },
    {
      "cell_type": "code",
      "source": [
        "mean_emp_pa_before = emp_per_state.iloc[0, 0]\n",
        "mean_emp_pa_after = emp_per_state.iloc[0, 1]\n",
        "mean_emp_nj_before = emp_per_state.iloc[1, 0]\n",
        "mean_emp_nj_after = emp_per_state.iloc[1, 1]\n",
        "\n",
        "print(f'mean PA employment before: {mean_emp_pa_before:.2f}')\n",
        "print(f'mean PA employment after: {mean_emp_pa_after:.2f}')\n",
        "print(f'mean NJ employment before: {mean_emp_nj_before:.2f}')\n",
        "print(f'mean NJ employment after: {mean_emp_nj_after:.2f}')"
      ],
      "metadata": {
        "id": "oWoyFrI1R6SW",
        "colab": {
          "base_uri": "https://localhost:8080/"
        },
        "outputId": "6f8a9a97-d1cc-4aec-8d93-6473df7fc785"
      },
      "execution_count": 24,
      "outputs": [
        {
          "output_type": "stream",
          "name": "stdout",
          "text": [
            "mean PA employment before: 23.38\n",
            "mean PA employment after: 21.10\n",
            "mean NJ employment before: 20.43\n",
            "mean NJ employment after: 20.90\n"
          ]
        }
      ]
    },
    {
      "cell_type": "code",
      "source": [
        "pa_diff = mean_emp_pa_after - mean_emp_pa_before\n",
        "print(f'difference of mean PA employment: {pa_diff:.2f}')"
      ],
      "metadata": {
        "id": "-yUf1fDaR-kF",
        "colab": {
          "base_uri": "https://localhost:8080/"
        },
        "outputId": "25294fce-9d8a-46cc-d09b-51462d404347"
      },
      "execution_count": 25,
      "outputs": [
        {
          "output_type": "stream",
          "name": "stdout",
          "text": [
            "difference of mean PA employment: -2.28\n"
          ]
        }
      ]
    },
    {
      "cell_type": "code",
      "source": [
        "nj_diff = mean_emp_nj_after - mean_emp_nj_before\n",
        "print(f'difference of mean NJ employment: {nj_diff:.2f}')"
      ],
      "metadata": {
        "id": "FRc9rkhjR_1m",
        "colab": {
          "base_uri": "https://localhost:8080/"
        },
        "outputId": "53fca845-4293-46c8-b3a7-a1ee1f097e36"
      },
      "execution_count": 26,
      "outputs": [
        {
          "output_type": "stream",
          "name": "stdout",
          "text": [
            "difference of mean NJ employment: 0.47\n"
          ]
        }
      ]
    },
    {
      "cell_type": "code",
      "source": [
        "did = nj_diff - pa_diff\n",
        "\n",
        "print(f'DiD in mean employment is {did:.2f}')"
      ],
      "metadata": {
        "id": "7GDjhD4-SAra",
        "colab": {
          "base_uri": "https://localhost:8080/"
        },
        "outputId": "fe0d71d5-9510-4e85-e6d4-fc913cce7d5c"
      },
      "execution_count": 27,
      "outputs": [
        {
          "output_type": "stream",
          "name": "stdout",
          "text": [
            "DiD in mean employment is 2.75\n"
          ]
        }
      ]
    },
    {
      "cell_type": "markdown",
      "source": [
        "- Difference in differences estimate is the estimated effect of minimum wage increase\n",
        "- The estimated effect is 2.75 additional mean full-time-equivalent employment."
      ],
      "metadata": {
        "id": "daSeMTVdSIk3"
      }
    },
    {
      "cell_type": "markdown",
      "source": [
        "### DiD Using Regression\n",
        "\n",
        "The same DID result can be obtained via regression"
      ],
      "metadata": {
        "id": "VOa0gG1vSKB4"
      }
    },
    {
      "cell_type": "markdown",
      "source": [
        "$$Y = \\alpha + \\gamma NJ + \\lambda D + \\delta (NJ \\times D) + \\varepsilon$$\n",
        "- $Y$ is total employment\n",
        "- $NJ$ is a dummy equal to 1 if the observation is from NJ, 0 if the observation is from PA\n",
        "- $D$ is a dummy equal to 1 if the observation is from November (the post period), 0 if the observation is from February (the pre period)\n",
        "\n",
        "- If setting the dummies equal to one and/or zero, we will know that:\n",
        "  - PA Pre: $\\alpha$\n",
        "  - PA Post: $\\alpha$ + $\\lambda$\n",
        "  - NJ Pre: $\\alpha$ + $\\gamma$\n",
        "  - NJ Post: $\\alpha$ + $\\gamma$+ $\\lambda$+ $\\delta$"
      ],
      "metadata": {
        "id": "mz-aBkcOSLEh"
      }
    },
    {
      "cell_type": "code",
      "source": [
        "# Get employment in February and the state\n",
        "df_before = employment[['total_emp_feb', 'state']]\n",
        "\n",
        "# Set 0 for employment from Feb\n",
        "df_before['D'] = 0\n",
        "\n",
        "# Renaming columns for simplicity\n",
        "df_before.columns = ['total_emp', 'NJ', 'D']"
      ],
      "metadata": {
        "id": "3AketdsWSNRf"
      },
      "execution_count": 28,
      "outputs": []
    },
    {
      "cell_type": "code",
      "source": [
        "# Get employment in NOvember and the state\n",
        "df_after = employment[['total_emp_nov', 'state']]\n",
        "\n",
        "# Set 1 for employment from Nov\n",
        "df_after['D'] = 1\n",
        "\n",
        "# Renaming columns for simplicity\n",
        "df_after.columns = ['total_emp', 'NJ', 'D']"
      ],
      "metadata": {
        "id": "AznVNy8TSOKO"
      },
      "execution_count": 29,
      "outputs": []
    },
    {
      "cell_type": "code",
      "source": [
        "# Concat both data\n",
        "df_reg = pd.concat([df_before, df_after])\n",
        "\n",
        "# Create the interaction\n",
        "df_reg['NJ_D'] = df_reg[\"NJ\"] * df_reg[\"D\"]\n",
        "\n",
        "# Shows whole data\n",
        "df_reg"
      ],
      "metadata": {
        "id": "R68T0G0gSPBV",
        "colab": {
          "base_uri": "https://localhost:8080/",
          "height": 424
        },
        "outputId": "3e103d79-327f-4026-d640-1d0d559f9fb5"
      },
      "execution_count": 30,
      "outputs": [
        {
          "output_type": "execute_result",
          "data": {
            "text/plain": [
              "     total_emp  NJ  D  NJ_D\n",
              "0        40.50   0  0     0\n",
              "1        13.75   0  0     0\n",
              "2         8.50   0  0     0\n",
              "3        34.00   0  0     0\n",
              "4        24.00   0  0     0\n",
              "..         ...  .. ..   ...\n",
              "379      23.75   1  1     1\n",
              "380      17.50   1  1     1\n",
              "381      20.50   1  1     1\n",
              "382      20.50   1  1     1\n",
              "383      25.00   1  1     1\n",
              "\n",
              "[768 rows x 4 columns]"
            ],
            "text/html": [
              "\n",
              "  <div id=\"df-79625a0a-d503-40f4-91d8-cacfe412fb75\" class=\"colab-df-container\">\n",
              "    <div>\n",
              "<style scoped>\n",
              "    .dataframe tbody tr th:only-of-type {\n",
              "        vertical-align: middle;\n",
              "    }\n",
              "\n",
              "    .dataframe tbody tr th {\n",
              "        vertical-align: top;\n",
              "    }\n",
              "\n",
              "    .dataframe thead th {\n",
              "        text-align: right;\n",
              "    }\n",
              "</style>\n",
              "<table border=\"1\" class=\"dataframe\">\n",
              "  <thead>\n",
              "    <tr style=\"text-align: right;\">\n",
              "      <th></th>\n",
              "      <th>total_emp</th>\n",
              "      <th>NJ</th>\n",
              "      <th>D</th>\n",
              "      <th>NJ_D</th>\n",
              "    </tr>\n",
              "  </thead>\n",
              "  <tbody>\n",
              "    <tr>\n",
              "      <th>0</th>\n",
              "      <td>40.50</td>\n",
              "      <td>0</td>\n",
              "      <td>0</td>\n",
              "      <td>0</td>\n",
              "    </tr>\n",
              "    <tr>\n",
              "      <th>1</th>\n",
              "      <td>13.75</td>\n",
              "      <td>0</td>\n",
              "      <td>0</td>\n",
              "      <td>0</td>\n",
              "    </tr>\n",
              "    <tr>\n",
              "      <th>2</th>\n",
              "      <td>8.50</td>\n",
              "      <td>0</td>\n",
              "      <td>0</td>\n",
              "      <td>0</td>\n",
              "    </tr>\n",
              "    <tr>\n",
              "      <th>3</th>\n",
              "      <td>34.00</td>\n",
              "      <td>0</td>\n",
              "      <td>0</td>\n",
              "      <td>0</td>\n",
              "    </tr>\n",
              "    <tr>\n",
              "      <th>4</th>\n",
              "      <td>24.00</td>\n",
              "      <td>0</td>\n",
              "      <td>0</td>\n",
              "      <td>0</td>\n",
              "    </tr>\n",
              "    <tr>\n",
              "      <th>...</th>\n",
              "      <td>...</td>\n",
              "      <td>...</td>\n",
              "      <td>...</td>\n",
              "      <td>...</td>\n",
              "    </tr>\n",
              "    <tr>\n",
              "      <th>379</th>\n",
              "      <td>23.75</td>\n",
              "      <td>1</td>\n",
              "      <td>1</td>\n",
              "      <td>1</td>\n",
              "    </tr>\n",
              "    <tr>\n",
              "      <th>380</th>\n",
              "      <td>17.50</td>\n",
              "      <td>1</td>\n",
              "      <td>1</td>\n",
              "      <td>1</td>\n",
              "    </tr>\n",
              "    <tr>\n",
              "      <th>381</th>\n",
              "      <td>20.50</td>\n",
              "      <td>1</td>\n",
              "      <td>1</td>\n",
              "      <td>1</td>\n",
              "    </tr>\n",
              "    <tr>\n",
              "      <th>382</th>\n",
              "      <td>20.50</td>\n",
              "      <td>1</td>\n",
              "      <td>1</td>\n",
              "      <td>1</td>\n",
              "    </tr>\n",
              "    <tr>\n",
              "      <th>383</th>\n",
              "      <td>25.00</td>\n",
              "      <td>1</td>\n",
              "      <td>1</td>\n",
              "      <td>1</td>\n",
              "    </tr>\n",
              "  </tbody>\n",
              "</table>\n",
              "<p>768 rows × 4 columns</p>\n",
              "</div>\n",
              "    <div class=\"colab-df-buttons\">\n",
              "\n",
              "  <div class=\"colab-df-container\">\n",
              "    <button class=\"colab-df-convert\" onclick=\"convertToInteractive('df-79625a0a-d503-40f4-91d8-cacfe412fb75')\"\n",
              "            title=\"Convert this dataframe to an interactive table.\"\n",
              "            style=\"display:none;\">\n",
              "\n",
              "  <svg xmlns=\"http://www.w3.org/2000/svg\" height=\"24px\" viewBox=\"0 -960 960 960\">\n",
              "    <path d=\"M120-120v-720h720v720H120Zm60-500h600v-160H180v160Zm220 220h160v-160H400v160Zm0 220h160v-160H400v160ZM180-400h160v-160H180v160Zm440 0h160v-160H620v160ZM180-180h160v-160H180v160Zm440 0h160v-160H620v160Z\"/>\n",
              "  </svg>\n",
              "    </button>\n",
              "\n",
              "  <style>\n",
              "    .colab-df-container {\n",
              "      display:flex;\n",
              "      gap: 12px;\n",
              "    }\n",
              "\n",
              "    .colab-df-convert {\n",
              "      background-color: #E8F0FE;\n",
              "      border: none;\n",
              "      border-radius: 50%;\n",
              "      cursor: pointer;\n",
              "      display: none;\n",
              "      fill: #1967D2;\n",
              "      height: 32px;\n",
              "      padding: 0 0 0 0;\n",
              "      width: 32px;\n",
              "    }\n",
              "\n",
              "    .colab-df-convert:hover {\n",
              "      background-color: #E2EBFA;\n",
              "      box-shadow: 0px 1px 2px rgba(60, 64, 67, 0.3), 0px 1px 3px 1px rgba(60, 64, 67, 0.15);\n",
              "      fill: #174EA6;\n",
              "    }\n",
              "\n",
              "    .colab-df-buttons div {\n",
              "      margin-bottom: 4px;\n",
              "    }\n",
              "\n",
              "    [theme=dark] .colab-df-convert {\n",
              "      background-color: #3B4455;\n",
              "      fill: #D2E3FC;\n",
              "    }\n",
              "\n",
              "    [theme=dark] .colab-df-convert:hover {\n",
              "      background-color: #434B5C;\n",
              "      box-shadow: 0px 1px 3px 1px rgba(0, 0, 0, 0.15);\n",
              "      filter: drop-shadow(0px 1px 2px rgba(0, 0, 0, 0.3));\n",
              "      fill: #FFFFFF;\n",
              "    }\n",
              "  </style>\n",
              "\n",
              "    <script>\n",
              "      const buttonEl =\n",
              "        document.querySelector('#df-79625a0a-d503-40f4-91d8-cacfe412fb75 button.colab-df-convert');\n",
              "      buttonEl.style.display =\n",
              "        google.colab.kernel.accessAllowed ? 'block' : 'none';\n",
              "\n",
              "      async function convertToInteractive(key) {\n",
              "        const element = document.querySelector('#df-79625a0a-d503-40f4-91d8-cacfe412fb75');\n",
              "        const dataTable =\n",
              "          await google.colab.kernel.invokeFunction('convertToInteractive',\n",
              "                                                    [key], {});\n",
              "        if (!dataTable) return;\n",
              "\n",
              "        const docLinkHtml = 'Like what you see? Visit the ' +\n",
              "          '<a target=\"_blank\" href=https://colab.research.google.com/notebooks/data_table.ipynb>data table notebook</a>'\n",
              "          + ' to learn more about interactive tables.';\n",
              "        element.innerHTML = '';\n",
              "        dataTable['output_type'] = 'display_data';\n",
              "        await google.colab.output.renderOutput(dataTable, element);\n",
              "        const docLink = document.createElement('div');\n",
              "        docLink.innerHTML = docLinkHtml;\n",
              "        element.appendChild(docLink);\n",
              "      }\n",
              "    </script>\n",
              "  </div>\n",
              "\n",
              "\n",
              "    <div id=\"df-c5408e0f-cf3f-499a-8f4d-8daddcd507a8\">\n",
              "      <button class=\"colab-df-quickchart\" onclick=\"quickchart('df-c5408e0f-cf3f-499a-8f4d-8daddcd507a8')\"\n",
              "                title=\"Suggest charts\"\n",
              "                style=\"display:none;\">\n",
              "\n",
              "<svg xmlns=\"http://www.w3.org/2000/svg\" height=\"24px\"viewBox=\"0 0 24 24\"\n",
              "     width=\"24px\">\n",
              "    <g>\n",
              "        <path d=\"M19 3H5c-1.1 0-2 .9-2 2v14c0 1.1.9 2 2 2h14c1.1 0 2-.9 2-2V5c0-1.1-.9-2-2-2zM9 17H7v-7h2v7zm4 0h-2V7h2v10zm4 0h-2v-4h2v4z\"/>\n",
              "    </g>\n",
              "</svg>\n",
              "      </button>\n",
              "\n",
              "<style>\n",
              "  .colab-df-quickchart {\n",
              "      --bg-color: #E8F0FE;\n",
              "      --fill-color: #1967D2;\n",
              "      --hover-bg-color: #E2EBFA;\n",
              "      --hover-fill-color: #174EA6;\n",
              "      --disabled-fill-color: #AAA;\n",
              "      --disabled-bg-color: #DDD;\n",
              "  }\n",
              "\n",
              "  [theme=dark] .colab-df-quickchart {\n",
              "      --bg-color: #3B4455;\n",
              "      --fill-color: #D2E3FC;\n",
              "      --hover-bg-color: #434B5C;\n",
              "      --hover-fill-color: #FFFFFF;\n",
              "      --disabled-bg-color: #3B4455;\n",
              "      --disabled-fill-color: #666;\n",
              "  }\n",
              "\n",
              "  .colab-df-quickchart {\n",
              "    background-color: var(--bg-color);\n",
              "    border: none;\n",
              "    border-radius: 50%;\n",
              "    cursor: pointer;\n",
              "    display: none;\n",
              "    fill: var(--fill-color);\n",
              "    height: 32px;\n",
              "    padding: 0;\n",
              "    width: 32px;\n",
              "  }\n",
              "\n",
              "  .colab-df-quickchart:hover {\n",
              "    background-color: var(--hover-bg-color);\n",
              "    box-shadow: 0 1px 2px rgba(60, 64, 67, 0.3), 0 1px 3px 1px rgba(60, 64, 67, 0.15);\n",
              "    fill: var(--button-hover-fill-color);\n",
              "  }\n",
              "\n",
              "  .colab-df-quickchart-complete:disabled,\n",
              "  .colab-df-quickchart-complete:disabled:hover {\n",
              "    background-color: var(--disabled-bg-color);\n",
              "    fill: var(--disabled-fill-color);\n",
              "    box-shadow: none;\n",
              "  }\n",
              "\n",
              "  .colab-df-spinner {\n",
              "    border: 2px solid var(--fill-color);\n",
              "    border-color: transparent;\n",
              "    border-bottom-color: var(--fill-color);\n",
              "    animation:\n",
              "      spin 1s steps(1) infinite;\n",
              "  }\n",
              "\n",
              "  @keyframes spin {\n",
              "    0% {\n",
              "      border-color: transparent;\n",
              "      border-bottom-color: var(--fill-color);\n",
              "      border-left-color: var(--fill-color);\n",
              "    }\n",
              "    20% {\n",
              "      border-color: transparent;\n",
              "      border-left-color: var(--fill-color);\n",
              "      border-top-color: var(--fill-color);\n",
              "    }\n",
              "    30% {\n",
              "      border-color: transparent;\n",
              "      border-left-color: var(--fill-color);\n",
              "      border-top-color: var(--fill-color);\n",
              "      border-right-color: var(--fill-color);\n",
              "    }\n",
              "    40% {\n",
              "      border-color: transparent;\n",
              "      border-right-color: var(--fill-color);\n",
              "      border-top-color: var(--fill-color);\n",
              "    }\n",
              "    60% {\n",
              "      border-color: transparent;\n",
              "      border-right-color: var(--fill-color);\n",
              "    }\n",
              "    80% {\n",
              "      border-color: transparent;\n",
              "      border-right-color: var(--fill-color);\n",
              "      border-bottom-color: var(--fill-color);\n",
              "    }\n",
              "    90% {\n",
              "      border-color: transparent;\n",
              "      border-bottom-color: var(--fill-color);\n",
              "    }\n",
              "  }\n",
              "</style>\n",
              "\n",
              "      <script>\n",
              "        async function quickchart(key) {\n",
              "          const quickchartButtonEl =\n",
              "            document.querySelector('#' + key + ' button');\n",
              "          quickchartButtonEl.disabled = true;  // To prevent multiple clicks.\n",
              "          quickchartButtonEl.classList.add('colab-df-spinner');\n",
              "          try {\n",
              "            const charts = await google.colab.kernel.invokeFunction(\n",
              "                'suggestCharts', [key], {});\n",
              "          } catch (error) {\n",
              "            console.error('Error during call to suggestCharts:', error);\n",
              "          }\n",
              "          quickchartButtonEl.classList.remove('colab-df-spinner');\n",
              "          quickchartButtonEl.classList.add('colab-df-quickchart-complete');\n",
              "        }\n",
              "        (() => {\n",
              "          let quickchartButtonEl =\n",
              "            document.querySelector('#df-c5408e0f-cf3f-499a-8f4d-8daddcd507a8 button');\n",
              "          quickchartButtonEl.style.display =\n",
              "            google.colab.kernel.accessAllowed ? 'block' : 'none';\n",
              "        })();\n",
              "      </script>\n",
              "    </div>\n",
              "\n",
              "  <div id=\"id_fa945d19-ea6d-41c6-bbfa-4145ae035eb3\">\n",
              "    <style>\n",
              "      .colab-df-generate {\n",
              "        background-color: #E8F0FE;\n",
              "        border: none;\n",
              "        border-radius: 50%;\n",
              "        cursor: pointer;\n",
              "        display: none;\n",
              "        fill: #1967D2;\n",
              "        height: 32px;\n",
              "        padding: 0 0 0 0;\n",
              "        width: 32px;\n",
              "      }\n",
              "\n",
              "      .colab-df-generate:hover {\n",
              "        background-color: #E2EBFA;\n",
              "        box-shadow: 0px 1px 2px rgba(60, 64, 67, 0.3), 0px 1px 3px 1px rgba(60, 64, 67, 0.15);\n",
              "        fill: #174EA6;\n",
              "      }\n",
              "\n",
              "      [theme=dark] .colab-df-generate {\n",
              "        background-color: #3B4455;\n",
              "        fill: #D2E3FC;\n",
              "      }\n",
              "\n",
              "      [theme=dark] .colab-df-generate:hover {\n",
              "        background-color: #434B5C;\n",
              "        box-shadow: 0px 1px 3px 1px rgba(0, 0, 0, 0.15);\n",
              "        filter: drop-shadow(0px 1px 2px rgba(0, 0, 0, 0.3));\n",
              "        fill: #FFFFFF;\n",
              "      }\n",
              "    </style>\n",
              "    <button class=\"colab-df-generate\" onclick=\"generateWithVariable('df_reg')\"\n",
              "            title=\"Generate code using this dataframe.\"\n",
              "            style=\"display:none;\">\n",
              "\n",
              "  <svg xmlns=\"http://www.w3.org/2000/svg\" height=\"24px\"viewBox=\"0 0 24 24\"\n",
              "       width=\"24px\">\n",
              "    <path d=\"M7,19H8.4L18.45,9,17,7.55,7,17.6ZM5,21V16.75L18.45,3.32a2,2,0,0,1,2.83,0l1.4,1.43a1.91,1.91,0,0,1,.58,1.4,1.91,1.91,0,0,1-.58,1.4L9.25,21ZM18.45,9,17,7.55Zm-12,3A5.31,5.31,0,0,0,4.9,8.1,5.31,5.31,0,0,0,1,6.5,5.31,5.31,0,0,0,4.9,4.9,5.31,5.31,0,0,0,6.5,1,5.31,5.31,0,0,0,8.1,4.9,5.31,5.31,0,0,0,12,6.5,5.46,5.46,0,0,0,6.5,12Z\"/>\n",
              "  </svg>\n",
              "    </button>\n",
              "    <script>\n",
              "      (() => {\n",
              "      const buttonEl =\n",
              "        document.querySelector('#id_fa945d19-ea6d-41c6-bbfa-4145ae035eb3 button.colab-df-generate');\n",
              "      buttonEl.style.display =\n",
              "        google.colab.kernel.accessAllowed ? 'block' : 'none';\n",
              "\n",
              "      buttonEl.onclick = () => {\n",
              "        google.colab.notebook.generateWithVariable('df_reg');\n",
              "      }\n",
              "      })();\n",
              "    </script>\n",
              "  </div>\n",
              "\n",
              "    </div>\n",
              "  </div>\n"
            ],
            "application/vnd.google.colaboratory.intrinsic+json": {
              "type": "dataframe",
              "variable_name": "df_reg",
              "summary": "{\n  \"name\": \"df_reg\",\n  \"rows\": 768,\n  \"fields\": [\n    {\n      \"column\": \"total_emp\",\n      \"properties\": {\n        \"dtype\": \"number\",\n        \"std\": 9.528934195433704,\n        \"min\": 0.0,\n        \"max\": 85.0,\n        \"num_unique_values\": 117,\n        \"samples\": [\n          26.0,\n          24.0,\n          25.5\n        ],\n        \"semantic_type\": \"\",\n        \"description\": \"\"\n      }\n    },\n    {\n      \"column\": \"NJ\",\n      \"properties\": {\n        \"dtype\": \"number\",\n        \"std\": 0,\n        \"min\": 0,\n        \"max\": 1,\n        \"num_unique_values\": 2,\n        \"samples\": [\n          1,\n          0\n        ],\n        \"semantic_type\": \"\",\n        \"description\": \"\"\n      }\n    },\n    {\n      \"column\": \"D\",\n      \"properties\": {\n        \"dtype\": \"number\",\n        \"std\": 0,\n        \"min\": 0,\n        \"max\": 1,\n        \"num_unique_values\": 2,\n        \"samples\": [\n          1,\n          0\n        ],\n        \"semantic_type\": \"\",\n        \"description\": \"\"\n      }\n    },\n    {\n      \"column\": \"NJ_D\",\n      \"properties\": {\n        \"dtype\": \"number\",\n        \"std\": 0,\n        \"min\": 0,\n        \"max\": 1,\n        \"num_unique_values\": 2,\n        \"samples\": [\n          1,\n          0\n        ],\n        \"semantic_type\": \"\",\n        \"description\": \"\"\n      }\n    }\n  ]\n}"
            }
          },
          "metadata": {},
          "execution_count": 30
        }
      ]
    },
    {
      "cell_type": "code",
      "source": [
        "# Create OLS model object\n",
        "model = smf.ols('total_emp ~ NJ + D + NJ_D', data = df_reg)\n",
        "\n",
        "# Fit the model\n",
        "results = model.fit()\n",
        "\n",
        "# Print the results\n",
        "print(results.summary())"
      ],
      "metadata": {
        "id": "J_1_V1XvSQIX",
        "colab": {
          "base_uri": "https://localhost:8080/"
        },
        "outputId": "eb7dae86-9e2c-4030-b19f-900adde4434f"
      },
      "execution_count": 31,
      "outputs": [
        {
          "output_type": "stream",
          "name": "stdout",
          "text": [
            "                            OLS Regression Results                            \n",
            "==============================================================================\n",
            "Dep. Variable:              total_emp   R-squared:                       0.008\n",
            "Model:                            OLS   Adj. R-squared:                  0.004\n",
            "Method:                 Least Squares   F-statistic:                     1.947\n",
            "Date:                Fri, 18 Jul 2025   Prob (F-statistic):              0.121\n",
            "Time:                        22:01:46   Log-Likelihood:                -2817.6\n",
            "No. Observations:                 768   AIC:                             5643.\n",
            "Df Residuals:                     764   BIC:                             5662.\n",
            "Df Model:                           3                                         \n",
            "Covariance Type:            nonrobust                                         \n",
            "==============================================================================\n",
            "                 coef    std err          t      P>|t|      [0.025      0.975]\n",
            "------------------------------------------------------------------------------\n",
            "Intercept     23.3800      1.098     21.288      0.000      21.224      25.536\n",
            "NJ            -2.9494      1.224     -2.409      0.016      -5.353      -0.546\n",
            "D             -2.2833      1.553     -1.470      0.142      -5.332       0.766\n",
            "NJ_D           2.7500      1.731      1.588      0.113      -0.649       6.149\n",
            "==============================================================================\n",
            "Omnibus:                      212.243   Durbin-Watson:                   1.835\n",
            "Prob(Omnibus):                  0.000   Jarque-Bera (JB):              761.734\n",
            "Skew:                           1.278   Prob(JB):                    3.90e-166\n",
            "Kurtosis:                       7.155   Cond. No.                         11.3\n",
            "==============================================================================\n",
            "\n",
            "Notes:\n",
            "[1] Standard Errors assume that the covariance matrix of the errors is correctly specified.\n"
          ]
        }
      ]
    },
    {
      "cell_type": "markdown",
      "source": [
        "by the definition of equation, the $\\alpha$, $\\gamma$, $\\lambda$, and $\\delta$ respectively is 20.43, 2.95, 0.47, and 2.75"
      ],
      "metadata": {
        "id": "Wwdb2ATOSR6f"
      }
    },
    {
      "cell_type": "markdown",
      "source": [
        "$$Y = 23.38 - 2.95NJ - 2.287D + 2.75 (NJ \\times D) + \\varepsilon$$\n"
      ],
      "metadata": {
        "id": "_9E5BVttSS02"
      }
    },
    {
      "cell_type": "code",
      "source": [
        "predictors = [\"NJ\",\"D\",\"NJ_D\"]\n",
        "outcome = \"total_emp\"\n",
        "data = df_reg.copy()\n",
        "results_ = results.params\n",
        "linestyles = {0 : \"-\", 1: \"-\"}\n",
        "c = {0 : \"r\", 1: \"b\"}\n",
        "markers = {0 : \"x\", 1: \".\"}\n",
        "\n",
        "# Plot the mean of employment in each state\n",
        "plt.plot(0, mean_emp_pa_before, c = 'r', marker = \"o\")\n",
        "plt.plot(1, mean_emp_pa_after, c = 'r', marker = \"o\")\n",
        "\n",
        "plt.plot(0, mean_emp_nj_before, c = 'b', marker = \"o\")\n",
        "plt.plot(1, mean_emp_nj_after, c = 'b', marker = \"o\")\n",
        "\n",
        "# Calculate the fitted values for two lines regarding the mom_hs\n",
        "beta0_hat = results_[0]\n",
        "beta1_hat = results_[1]\n",
        "beta2_hat = results_[2]\n",
        "beta3_hat = results_[3]\n",
        "\n",
        "# Calculate employment prediction\n",
        "D = data[predictors[0]]\n",
        "empl_pred = [beta0_hat +  beta1_hat * NJ  + beta2_hat * D + beta3_hat * D * NJ for NJ in range(2)]\n",
        "\n",
        "# Plot two fitted line from regression\n",
        "for i in range(2):\n",
        "    plt.plot(D, empl_pred[i], c = c[i], label = f\"Fitted line (Treatment - NJ ={i})\", linestyle = linestyles[i])\n",
        "\n",
        "# Plot assumed counterfactual\n",
        "fitted_values_counterfact = empl_pred[0] + beta1_hat\n",
        "plt.plot(D, fitted_values_counterfact, c = \"r\", label = f\"Assumed counterfactual NJ\", linestyle = \"--\")\n",
        "\n",
        "# Plot the delta as DiD estimate as the effect\n",
        "plt.axvline(x = 1, ymin = 0.05, ymax = 0.50, c = \"grey\", linestyle = \"-.\")\n",
        "plt.text(0.96, 19.5, f\"$\\delta$\", size =12)\n",
        "\n",
        "# Plot the gamma and lambda\n",
        "plt.axvline(x = 0, ymin = 0.45, ymax = 0.95, c = \"grey\", linestyle = \"-.\")\n",
        "plt.text(0.01, 21, f\"$\\gamma$\", size =12)\n",
        "\n",
        "plt.axvline(x = -0.1, ymin = 0.55, ymax = 0.95, c = \"grey\", linestyle = \"-.\")\n",
        "plt.text(-0.08, 22, f\"$\\lambda$\", size =12)\n",
        "\n",
        "# Add a legend and labels\n",
        "plt.legend()\n",
        "plt.ylabel(f\"{outcome}\")\n",
        "plt.xlabel(f\"Time ({predictors[1]}), 0 = Pre (Feb), 1 = Post (Nov)\")\n",
        "\n",
        "# Add a title and adjust the margins\n",
        "plt.title(\"Mean Employment in NJ/PA and fitted regression line\")\n",
        "\n",
        "# Show the plot\n",
        "plt.show()"
      ],
      "metadata": {
        "id": "4bARu0sNSVEv",
        "colab": {
          "base_uri": "https://localhost:8080/",
          "height": 631
        },
        "outputId": "3a07fe41-b0de-44fa-9da4-332336a65b88"
      },
      "execution_count": 32,
      "outputs": [
        {
          "output_type": "stream",
          "name": "stderr",
          "text": [
            "/tmp/ipython-input-32-1862442086.py:17: FutureWarning: Series.__getitem__ treating keys as positions is deprecated. In a future version, integer keys will always be treated as labels (consistent with DataFrame behavior). To access a value by position, use `ser.iloc[pos]`\n",
            "  beta0_hat = results_[0]\n",
            "/tmp/ipython-input-32-1862442086.py:18: FutureWarning: Series.__getitem__ treating keys as positions is deprecated. In a future version, integer keys will always be treated as labels (consistent with DataFrame behavior). To access a value by position, use `ser.iloc[pos]`\n",
            "  beta1_hat = results_[1]\n",
            "/tmp/ipython-input-32-1862442086.py:19: FutureWarning: Series.__getitem__ treating keys as positions is deprecated. In a future version, integer keys will always be treated as labels (consistent with DataFrame behavior). To access a value by position, use `ser.iloc[pos]`\n",
            "  beta2_hat = results_[2]\n",
            "/tmp/ipython-input-32-1862442086.py:20: FutureWarning: Series.__getitem__ treating keys as positions is deprecated. In a future version, integer keys will always be treated as labels (consistent with DataFrame behavior). To access a value by position, use `ser.iloc[pos]`\n",
            "  beta3_hat = results_[3]\n"
          ]
        },
        {
          "output_type": "display_data",
          "data": {
            "text/plain": [
              "<Figure size 640x480 with 1 Axes>"
            ],
            "image/png": "[encoded data removed]"
          },
          "metadata": {}
        }
      ]
    },
    {
      "cell_type": "markdown",
      "source": [
        "1. Calculate the difference in PA post and pre minimum wage increase (PA_Post - PA_Pre)"
      ],
      "metadata": {
        "id": "-BqPgJVASYjY"
      }
    },
    {
      "cell_type": "markdown",
      "source": [
        "- PA Pre: $\\alpha$\n",
        "- PA Post: $\\alpha$ + $\\lambda$"
      ],
      "metadata": {
        "id": "jGr8ddGESZiz"
      }
    },
    {
      "cell_type": "code",
      "source": [
        "PA_Pre = results.params[0]\n",
        "PA_Post = results.params[0] + results.params[1]"
      ],
      "metadata": {
        "id": "VhErW-GfSaq-",
        "colab": {
          "base_uri": "https://localhost:8080/"
        },
        "outputId": "9474d474-6a4c-48ec-f3b9-3e4168144a23"
      },
      "execution_count": 33,
      "outputs": [
        {
          "output_type": "stream",
          "name": "stderr",
          "text": [
            "/tmp/ipython-input-33-4050796535.py:1: FutureWarning: Series.__getitem__ treating keys as positions is deprecated. In a future version, integer keys will always be treated as labels (consistent with DataFrame behavior). To access a value by position, use `ser.iloc[pos]`\n",
            "  PA_Pre = results.params[0]\n",
            "/tmp/ipython-input-33-4050796535.py:2: FutureWarning: Series.__getitem__ treating keys as positions is deprecated. In a future version, integer keys will always be treated as labels (consistent with DataFrame behavior). To access a value by position, use `ser.iloc[pos]`\n",
            "  PA_Post = results.params[0] + results.params[1]\n"
          ]
        }
      ]
    },
    {
      "cell_type": "code",
      "source": [
        "diff_PA = PA_Post - PA_Pre\n",
        "diff_PA"
      ],
      "metadata": {
        "id": "YUPoP-4aSbq4",
        "colab": {
          "base_uri": "https://localhost:8080/"
        },
        "outputId": "079efeee-6b3f-4b83-ad73-aa69ce59fcca"
      },
      "execution_count": 34,
      "outputs": [
        {
          "output_type": "execute_result",
          "data": {
            "text/plain": [
              "np.float64(-2.9494174757282074)"
            ]
          },
          "metadata": {},
          "execution_count": 34
        }
      ]
    },
    {
      "cell_type": "markdown",
      "source": [
        "2. Calculate the difference in NJ post and pre minimum wage increase (NJ_Post - NJ_Pre)"
      ],
      "metadata": {
        "id": "UUjxeIsDSfZG"
      }
    },
    {
      "cell_type": "markdown",
      "source": [
        "  - NJ Pre: $\\alpha$ + $\\gamma$\n",
        "  - NJ Post: $\\alpha$ + $\\gamma$+ $\\lambda$+ $\\delta$"
      ],
      "metadata": {
        "id": "ji4rrbYWSllQ"
      }
    },
    {
      "cell_type": "code",
      "source": [
        "NJ_Pre = results.params[0] + results.params[2]\n",
        "NJ_Post = results.params[0]+ results.params[1]+ results.params[2]+ results.params[3]"
      ],
      "metadata": {
        "id": "wl8J9SPgSiHm",
        "colab": {
          "base_uri": "https://localhost:8080/"
        },
        "outputId": "4aa50dea-f378-4701-87ff-204d1ed2a213"
      },
      "execution_count": 35,
      "outputs": [
        {
          "output_type": "stream",
          "name": "stderr",
          "text": [
            "/tmp/ipython-input-35-250447162.py:1: FutureWarning: Series.__getitem__ treating keys as positions is deprecated. In a future version, integer keys will always be treated as labels (consistent with DataFrame behavior). To access a value by position, use `ser.iloc[pos]`\n",
            "  NJ_Pre = results.params[0] + results.params[2]\n",
            "/tmp/ipython-input-35-250447162.py:2: FutureWarning: Series.__getitem__ treating keys as positions is deprecated. In a future version, integer keys will always be treated as labels (consistent with DataFrame behavior). To access a value by position, use `ser.iloc[pos]`\n",
            "  NJ_Post = results.params[0]+ results.params[1]+ results.params[2]+ results.params[3]\n"
          ]
        }
      ]
    },
    {
      "cell_type": "code",
      "source": [
        "diff_NJ = NJ_Post - NJ_Pre\n",
        "diff_NJ"
      ],
      "metadata": {
        "id": "yepBEZkXSp4o",
        "colab": {
          "base_uri": "https://localhost:8080/"
        },
        "outputId": "275b1551-d373-4ae9-81bd-ddf433f1aa4f"
      },
      "execution_count": 36,
      "outputs": [
        {
          "output_type": "execute_result",
          "data": {
            "text/plain": [
              "np.float64(-0.19941747572812218)"
            ]
          },
          "metadata": {},
          "execution_count": 36
        }
      ]
    },
    {
      "cell_type": "code",
      "source": [
        "did_reg = (NJ_Post-NJ_Pre) - (PA_Post - PA_Pre)\n",
        "did_reg"
      ],
      "metadata": {
        "id": "Hg8oJMhvSq32",
        "colab": {
          "base_uri": "https://localhost:8080/"
        },
        "outputId": "0fbf7865-f355-4a2b-e9a5-f746ff6ae377"
      },
      "execution_count": 37,
      "outputs": [
        {
          "output_type": "execute_result",
          "data": {
            "text/plain": [
              "np.float64(2.7500000000000853)"
            ]
          },
          "metadata": {},
          "execution_count": 37
        }
      ]
    },
    {
      "cell_type": "markdown",
      "source": [
        "### Conclusion\n",
        "- By comparing the states before and after the minimum-wage increase, they evaluated its effect.\n",
        "- The result of the study yielded a surprising result that challenged expectations.\n",
        "- **They estimated the effect of minimum wage increase is 2.75 additional mean full-time-equivalent employment.**\n",
        "- The positive value contradicted the assumption of competitive input markets, where a negative value would have been expected.\n",
        "- The unexpected findings highlight the importance of critically analyzing results and questioning assumptions in economic research."
      ],
      "metadata": {
        "id": "uccB7ATFStYg"
      }
    },
    {
      "cell_type": "markdown",
      "source": [
        "## Reference\n",
        "- Causal Inference: The Mixtape by Scott Cunningham\n",
        "- Causal Inference for the Brave and True by Matheus Facure Alves\n",
        "- Mixtape Sessions by Scott Cunningham\n",
        "- Thornton, Rebecca L. 2008. “The Demand for, and Impact of, Learning HIV Status.” American Economic Review 98 (5): 1829–63."
      ],
      "metadata": {
        "id": "t6WKU18ESu6A"
      }
    }
  ]
}